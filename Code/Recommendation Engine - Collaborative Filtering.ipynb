{
 "cells": [
  {
   "cell_type": "code",
   "execution_count": 1,
   "id": "92d5d300",
   "metadata": {},
   "outputs": [],
   "source": [
    "#import required libraries\n",
    "import numpy as np\n",
    "import pandas as pd\n",
    "import matplotlib.pyplot as plt\n",
    "import seaborn as sns\n",
    "\n",
    "from __future__ import (absolute_import, division, print_function,             \n",
    "                        unicode_literals)                                      \n",
    "import pickle\n",
    "import os\n",
    "import random\n",
    "\n",
    "from surprise import Dataset \n",
    "from surprise.model_selection import cross_validate\n",
    "from surprise import Reader\n",
    "from surprise import SVD\n",
    "from surprise import NMF\n",
    "from surprise import KNNBasic\n",
    "from surprise import CoClustering\n",
    "from surprise import SVDpp\n",
    "from surprise import SlopeOne\n",
    "from surprise import dump\n",
    "from surprise.accuracy import rmse\n",
    "from surprise.model_selection import KFold\n",
    "from surprise import accuracy\n",
    "from surprise.model_selection import GridSearchCV\n",
    "from surprise.model_selection import cross_validate\n",
    "from surprise.model_selection import train_test_split\n",
    "from surprise import accuracy\n",
    "from collections import defaultdict\n",
    "\n",
    "import io  \n",
    "from surprise import get_dataset_dir, KNNBaseline\n"
   ]
  },
  {
   "cell_type": "code",
   "execution_count": 2,
   "id": "7090aa20-180e-4aae-bf31-e2a030aa72fa",
   "metadata": {},
   "outputs": [],
   "source": [
    "# Load the dataset \n",
    "df = pd.read_csv(\"ratings_small.csv\")"
   ]
  },
  {
   "cell_type": "markdown",
   "id": "6bcbda2b-d93c-412d-91c3-537768dcd318",
   "metadata": {},
   "source": [
    "### Explore the Dataset"
   ]
  },
  {
   "cell_type": "code",
   "execution_count": 3,
   "id": "576724a1-b3d3-4f1b-a8a3-e2d86ebbc580",
   "metadata": {},
   "outputs": [
    {
     "data": {
      "text/html": [
       "<div>\n",
       "<style scoped>\n",
       "    .dataframe tbody tr th:only-of-type {\n",
       "        vertical-align: middle;\n",
       "    }\n",
       "\n",
       "    .dataframe tbody tr th {\n",
       "        vertical-align: top;\n",
       "    }\n",
       "\n",
       "    .dataframe thead th {\n",
       "        text-align: right;\n",
       "    }\n",
       "</style>\n",
       "<table border=\"1\" class=\"dataframe\">\n",
       "  <thead>\n",
       "    <tr style=\"text-align: right;\">\n",
       "      <th></th>\n",
       "      <th>userId</th>\n",
       "      <th>movieId</th>\n",
       "      <th>rating</th>\n",
       "      <th>timestamp</th>\n",
       "    </tr>\n",
       "  </thead>\n",
       "  <tbody>\n",
       "    <tr>\n",
       "      <th>0</th>\n",
       "      <td>1</td>\n",
       "      <td>31</td>\n",
       "      <td>2.5</td>\n",
       "      <td>1260759144</td>\n",
       "    </tr>\n",
       "    <tr>\n",
       "      <th>1</th>\n",
       "      <td>1</td>\n",
       "      <td>1029</td>\n",
       "      <td>3.0</td>\n",
       "      <td>1260759179</td>\n",
       "    </tr>\n",
       "    <tr>\n",
       "      <th>2</th>\n",
       "      <td>1</td>\n",
       "      <td>1061</td>\n",
       "      <td>3.0</td>\n",
       "      <td>1260759182</td>\n",
       "    </tr>\n",
       "    <tr>\n",
       "      <th>3</th>\n",
       "      <td>1</td>\n",
       "      <td>1129</td>\n",
       "      <td>2.0</td>\n",
       "      <td>1260759185</td>\n",
       "    </tr>\n",
       "    <tr>\n",
       "      <th>4</th>\n",
       "      <td>1</td>\n",
       "      <td>1172</td>\n",
       "      <td>4.0</td>\n",
       "      <td>1260759205</td>\n",
       "    </tr>\n",
       "  </tbody>\n",
       "</table>\n",
       "</div>"
      ],
      "text/plain": [
       "   userId  movieId  rating   timestamp\n",
       "0       1       31     2.5  1260759144\n",
       "1       1     1029     3.0  1260759179\n",
       "2       1     1061     3.0  1260759182\n",
       "3       1     1129     2.0  1260759185\n",
       "4       1     1172     4.0  1260759205"
      ]
     },
     "execution_count": 3,
     "metadata": {},
     "output_type": "execute_result"
    }
   ],
   "source": [
    "#Check headings\n",
    "df.head()"
   ]
  },
  {
   "cell_type": "code",
   "execution_count": 4,
   "id": "2ff9ae58-d457-48ce-a42c-f00567bbf215",
   "metadata": {},
   "outputs": [
    {
     "data": {
      "text/plain": [
       "(100004, 4)"
      ]
     },
     "execution_count": 4,
     "metadata": {},
     "output_type": "execute_result"
    }
   ],
   "source": [
    "#Check Shape\n",
    "df.shape"
   ]
  },
  {
   "cell_type": "code",
   "execution_count": 5,
   "id": "7352000a-6ddd-45bd-87cb-71baac0b9431",
   "metadata": {},
   "outputs": [
    {
     "data": {
      "text/plain": [
       "userId         int64\n",
       "movieId        int64\n",
       "rating       float64\n",
       "timestamp      int64\n",
       "dtype: object"
      ]
     },
     "execution_count": 5,
     "metadata": {},
     "output_type": "execute_result"
    }
   ],
   "source": [
    "#Check data types\n",
    "df.dtypes"
   ]
  },
  {
   "cell_type": "code",
   "execution_count": 6,
   "id": "dc749774-c571-478b-a798-f1ab3a674285",
   "metadata": {},
   "outputs": [
    {
     "data": {
      "text/plain": [
       "userId       0\n",
       "movieId      0\n",
       "rating       0\n",
       "timestamp    0\n",
       "dtype: int64"
      ]
     },
     "execution_count": 6,
     "metadata": {},
     "output_type": "execute_result"
    }
   ],
   "source": [
    "#Check for missing values\n",
    "df.isnull().sum()"
   ]
  },
  {
   "cell_type": "code",
   "execution_count": 7,
   "id": "036dfedc-7c86-46ef-b8e7-054146602a6a",
   "metadata": {},
   "outputs": [
    {
     "name": "stdout",
     "output_type": "stream",
     "text": [
      "<class 'pandas.core.frame.DataFrame'>\n",
      "RangeIndex: 100004 entries, 0 to 100003\n",
      "Data columns (total 4 columns):\n",
      " #   Column     Non-Null Count   Dtype  \n",
      "---  ------     --------------   -----  \n",
      " 0   userId     100004 non-null  int64  \n",
      " 1   movieId    100004 non-null  int64  \n",
      " 2   rating     100004 non-null  float64\n",
      " 3   timestamp  100004 non-null  int64  \n",
      "dtypes: float64(1), int64(3)\n",
      "memory usage: 3.1 MB\n"
     ]
    }
   ],
   "source": [
    "# Data Information\n",
    "df.info()"
   ]
  },
  {
   "cell_type": "markdown",
   "id": "d89a12fa-b9a4-4eec-96f8-3627fdabdb2e",
   "metadata": {},
   "source": [
    "### Descriptive Analysis"
   ]
  },
  {
   "cell_type": "code",
   "execution_count": 8,
   "id": "15ac85a0-679c-4af4-b7af-c811708743e5",
   "metadata": {},
   "outputs": [
    {
     "data": {
      "text/html": [
       "<div>\n",
       "<style scoped>\n",
       "    .dataframe tbody tr th:only-of-type {\n",
       "        vertical-align: middle;\n",
       "    }\n",
       "\n",
       "    .dataframe tbody tr th {\n",
       "        vertical-align: top;\n",
       "    }\n",
       "\n",
       "    .dataframe thead th {\n",
       "        text-align: right;\n",
       "    }\n",
       "</style>\n",
       "<table border=\"1\" class=\"dataframe\">\n",
       "  <thead>\n",
       "    <tr style=\"text-align: right;\">\n",
       "      <th></th>\n",
       "      <th>userId</th>\n",
       "      <th>movieId</th>\n",
       "      <th>rating</th>\n",
       "      <th>timestamp</th>\n",
       "    </tr>\n",
       "  </thead>\n",
       "  <tbody>\n",
       "    <tr>\n",
       "      <th>count</th>\n",
       "      <td>100004.000000</td>\n",
       "      <td>100004.000000</td>\n",
       "      <td>100004.000000</td>\n",
       "      <td>1.000040e+05</td>\n",
       "    </tr>\n",
       "    <tr>\n",
       "      <th>mean</th>\n",
       "      <td>347.011310</td>\n",
       "      <td>12548.664363</td>\n",
       "      <td>3.543608</td>\n",
       "      <td>1.129639e+09</td>\n",
       "    </tr>\n",
       "    <tr>\n",
       "      <th>std</th>\n",
       "      <td>195.163838</td>\n",
       "      <td>26369.198969</td>\n",
       "      <td>1.058064</td>\n",
       "      <td>1.916858e+08</td>\n",
       "    </tr>\n",
       "    <tr>\n",
       "      <th>min</th>\n",
       "      <td>1.000000</td>\n",
       "      <td>1.000000</td>\n",
       "      <td>0.500000</td>\n",
       "      <td>7.896520e+08</td>\n",
       "    </tr>\n",
       "    <tr>\n",
       "      <th>25%</th>\n",
       "      <td>182.000000</td>\n",
       "      <td>1028.000000</td>\n",
       "      <td>3.000000</td>\n",
       "      <td>9.658478e+08</td>\n",
       "    </tr>\n",
       "    <tr>\n",
       "      <th>50%</th>\n",
       "      <td>367.000000</td>\n",
       "      <td>2406.500000</td>\n",
       "      <td>4.000000</td>\n",
       "      <td>1.110422e+09</td>\n",
       "    </tr>\n",
       "    <tr>\n",
       "      <th>75%</th>\n",
       "      <td>520.000000</td>\n",
       "      <td>5418.000000</td>\n",
       "      <td>4.000000</td>\n",
       "      <td>1.296192e+09</td>\n",
       "    </tr>\n",
       "    <tr>\n",
       "      <th>max</th>\n",
       "      <td>671.000000</td>\n",
       "      <td>163949.000000</td>\n",
       "      <td>5.000000</td>\n",
       "      <td>1.476641e+09</td>\n",
       "    </tr>\n",
       "  </tbody>\n",
       "</table>\n",
       "</div>"
      ],
      "text/plain": [
       "              userId        movieId         rating     timestamp\n",
       "count  100004.000000  100004.000000  100004.000000  1.000040e+05\n",
       "mean      347.011310   12548.664363       3.543608  1.129639e+09\n",
       "std       195.163838   26369.198969       1.058064  1.916858e+08\n",
       "min         1.000000       1.000000       0.500000  7.896520e+08\n",
       "25%       182.000000    1028.000000       3.000000  9.658478e+08\n",
       "50%       367.000000    2406.500000       4.000000  1.110422e+09\n",
       "75%       520.000000    5418.000000       4.000000  1.296192e+09\n",
       "max       671.000000  163949.000000       5.000000  1.476641e+09"
      ]
     },
     "execution_count": 8,
     "metadata": {},
     "output_type": "execute_result"
    }
   ],
   "source": [
    "# Numerical Data Description\n",
    "df.describe()"
   ]
  },
  {
   "cell_type": "code",
   "execution_count": 9,
   "id": "6732096e-165e-4695-aa5a-c7c58d764813",
   "metadata": {},
   "outputs": [
    {
     "data": {
      "image/png": "[encoded data removed]",
      "text/plain": [
       "<Figure size 700x500 with 1 Axes>"
      ]
     },
     "metadata": {},
     "output_type": "display_data"
    }
   ],
   "source": [
    "# Histogram of movieId\n",
    "plt.figure(figsize=(7,5), tight_layout=True)\n",
    "plt.hist(df['movieId'], color='Green', linewidth=0.3,alpha=0.5)\n",
    "plt.xlabel('movie Id',fontsize=14)\n",
    "plt.title('Histogram of movie Id', fontsize = 15)\n",
    "plt.show()"
   ]
  },
  {
   "cell_type": "code",
   "execution_count": 10,
   "id": "e2125536-32ed-434a-880a-03944fb69d90",
   "metadata": {},
   "outputs": [
    {
     "data": {
      "image/png": "[encoded data removed]",
      "text/plain": [
       "<Figure size 700x500 with 1 Axes>"
      ]
     },
     "metadata": {},
     "output_type": "display_data"
    }
   ],
   "source": [
    "# Histogram of rating\n",
    "plt.figure(figsize=(7,5), tight_layout=True)\n",
    "plt.hist(df['rating'], color='Green', linewidth=0.3,alpha=0.5)\n",
    "plt.xlabel('Rating',fontsize=14)\n",
    "plt.title('Histogram of Rating', fontsize = 15)\n",
    "plt.show()"
   ]
  },
  {
   "cell_type": "markdown",
   "id": "ba21645e-04ce-43c3-ab09-a6d71df7516a",
   "metadata": {},
   "source": [
    "## Recommendation Model - Colloborative Filtering"
   ]
  },
  {
   "cell_type": "code",
   "execution_count": 11,
   "id": "5a449b95-fb04-4361-8b7a-b802556a284e",
   "metadata": {},
   "outputs": [
    {
     "data": {
      "text/html": [
       "<div>\n",
       "<style scoped>\n",
       "    .dataframe tbody tr th:only-of-type {\n",
       "        vertical-align: middle;\n",
       "    }\n",
       "\n",
       "    .dataframe tbody tr th {\n",
       "        vertical-align: top;\n",
       "    }\n",
       "\n",
       "    .dataframe thead th {\n",
       "        text-align: right;\n",
       "    }\n",
       "</style>\n",
       "<table border=\"1\" class=\"dataframe\">\n",
       "  <thead>\n",
       "    <tr style=\"text-align: right;\">\n",
       "      <th></th>\n",
       "      <th>userId</th>\n",
       "      <th>movieId</th>\n",
       "      <th>rating</th>\n",
       "    </tr>\n",
       "  </thead>\n",
       "  <tbody>\n",
       "    <tr>\n",
       "      <th>0</th>\n",
       "      <td>1</td>\n",
       "      <td>31</td>\n",
       "      <td>2.5</td>\n",
       "    </tr>\n",
       "    <tr>\n",
       "      <th>1</th>\n",
       "      <td>1</td>\n",
       "      <td>1029</td>\n",
       "      <td>3.0</td>\n",
       "    </tr>\n",
       "    <tr>\n",
       "      <th>2</th>\n",
       "      <td>1</td>\n",
       "      <td>1061</td>\n",
       "      <td>3.0</td>\n",
       "    </tr>\n",
       "    <tr>\n",
       "      <th>3</th>\n",
       "      <td>1</td>\n",
       "      <td>1129</td>\n",
       "      <td>2.0</td>\n",
       "    </tr>\n",
       "    <tr>\n",
       "      <th>4</th>\n",
       "      <td>1</td>\n",
       "      <td>1172</td>\n",
       "      <td>4.0</td>\n",
       "    </tr>\n",
       "    <tr>\n",
       "      <th>...</th>\n",
       "      <td>...</td>\n",
       "      <td>...</td>\n",
       "      <td>...</td>\n",
       "    </tr>\n",
       "    <tr>\n",
       "      <th>99999</th>\n",
       "      <td>671</td>\n",
       "      <td>6268</td>\n",
       "      <td>2.5</td>\n",
       "    </tr>\n",
       "    <tr>\n",
       "      <th>100000</th>\n",
       "      <td>671</td>\n",
       "      <td>6269</td>\n",
       "      <td>4.0</td>\n",
       "    </tr>\n",
       "    <tr>\n",
       "      <th>100001</th>\n",
       "      <td>671</td>\n",
       "      <td>6365</td>\n",
       "      <td>4.0</td>\n",
       "    </tr>\n",
       "    <tr>\n",
       "      <th>100002</th>\n",
       "      <td>671</td>\n",
       "      <td>6385</td>\n",
       "      <td>2.5</td>\n",
       "    </tr>\n",
       "    <tr>\n",
       "      <th>100003</th>\n",
       "      <td>671</td>\n",
       "      <td>6565</td>\n",
       "      <td>3.5</td>\n",
       "    </tr>\n",
       "  </tbody>\n",
       "</table>\n",
       "<p>100004 rows × 3 columns</p>\n",
       "</div>"
      ],
      "text/plain": [
       "        userId  movieId  rating\n",
       "0            1       31     2.5\n",
       "1            1     1029     3.0\n",
       "2            1     1061     3.0\n",
       "3            1     1129     2.0\n",
       "4            1     1172     4.0\n",
       "...        ...      ...     ...\n",
       "99999      671     6268     2.5\n",
       "100000     671     6269     4.0\n",
       "100001     671     6365     4.0\n",
       "100002     671     6385     2.5\n",
       "100003     671     6565     3.5\n",
       "\n",
       "[100004 rows x 3 columns]"
      ]
     },
     "execution_count": 11,
     "metadata": {},
     "output_type": "execute_result"
    }
   ],
   "source": [
    "#Remove the timestamp variables\n",
    "df2 = df.drop(['timestamp'], axis=1)\n",
    "df2"
   ]
  },
  {
   "cell_type": "code",
   "execution_count": 12,
   "id": "d6ef941b",
   "metadata": {},
   "outputs": [
    {
     "data": {
      "text/plain": [
       "<surprise.dataset.DatasetAutoFolds at 0x27deffc95d0>"
      ]
     },
     "execution_count": 12,
     "metadata": {},
     "output_type": "execute_result"
    }
   ],
   "source": [
    "# import reader and set dataset\n",
    "# A reader is still needed but only the rating_scale param is requiered.\n",
    "#set the rating_scale\n",
    "reader = Reader(rating_scale=(1, 5))\n",
    "\n",
    "# The columns must correspond to user id, item id and ratings (in that order).\n",
    "data = Dataset.load_from_df(df2[['userId', 'movieId', 'rating']], reader)\n",
    "data"
   ]
  },
  {
   "cell_type": "code",
   "execution_count": 13,
   "id": "14d18c86-76cb-4b6d-8a4d-e97adca64336",
   "metadata": {},
   "outputs": [],
   "source": [
    "# set the seed\n",
    "import random\n",
    "import numpy as np\n",
    "\n",
    "my_seed = 0\n",
    "random.seed(my_seed)\n",
    "np.random.seed(my_seed)"
   ]
  },
  {
   "cell_type": "markdown",
   "id": "0d31961a-3b0d-4e33-a86b-86695045c8b4",
   "metadata": {},
   "source": [
    "### Matrix Factorisation Method"
   ]
  },
  {
   "cell_type": "markdown",
   "id": "1efbe7b1-9140-4552-be8f-d9cbc81bfbc7",
   "metadata": {},
   "source": [
    "considering SVD, NMF, CoClustering and SlopeOne methods"
   ]
  },
  {
   "cell_type": "code",
   "execution_count": 14,
   "id": "e5328202-91cf-4933-8a30-575b14d109a1",
   "metadata": {},
   "outputs": [],
   "source": [
    "benchmark = []\n",
    "# Iterate over all algorithms\n",
    "#for trainset, testset in kf.split(df): \n",
    "for algorithm in [SVD(), NMF(), CoClustering(), SlopeOne()]:\n",
    "    # Perform cross validation\n",
    "    results = cross_validate(algorithm, data, measures=['RMSE'], cv=5, verbose=False)\n",
    "    \n",
    "    \n",
    "    # Get results & append algorithm name\n",
    "    tmp = pd.DataFrame.from_dict(results).mean(axis=0)\n",
    "    tmp = tmp._append(pd.Series([str(algorithm).split(' ')[0].split('.')[-1]],index=['Algorithm']))\n",
    "    benchmark.append(tmp)"
   ]
  },
  {
   "cell_type": "code",
   "execution_count": 16,
   "id": "4238fd26-2d71-44ab-a659-e7243f04e329",
   "metadata": {},
   "outputs": [
    {
     "data": {
      "text/html": [
       "<div>\n",
       "<style scoped>\n",
       "    .dataframe tbody tr th:only-of-type {\n",
       "        vertical-align: middle;\n",
       "    }\n",
       "\n",
       "    .dataframe tbody tr th {\n",
       "        vertical-align: top;\n",
       "    }\n",
       "\n",
       "    .dataframe thead th {\n",
       "        text-align: right;\n",
       "    }\n",
       "</style>\n",
       "<table border=\"1\" class=\"dataframe\">\n",
       "  <thead>\n",
       "    <tr style=\"text-align: right;\">\n",
       "      <th></th>\n",
       "      <th>test_rmse</th>\n",
       "      <th>fit_time</th>\n",
       "      <th>test_time</th>\n",
       "    </tr>\n",
       "    <tr>\n",
       "      <th>Algorithm</th>\n",
       "      <th></th>\n",
       "      <th></th>\n",
       "      <th></th>\n",
       "    </tr>\n",
       "  </thead>\n",
       "  <tbody>\n",
       "    <tr>\n",
       "      <th>SVD</th>\n",
       "      <td>0.895728</td>\n",
       "      <td>2.124370</td>\n",
       "      <td>0.349039</td>\n",
       "    </tr>\n",
       "    <tr>\n",
       "      <th>SlopeOne</th>\n",
       "      <td>0.927662</td>\n",
       "      <td>5.806456</td>\n",
       "      <td>10.597846</td>\n",
       "    </tr>\n",
       "    <tr>\n",
       "      <th>NMF</th>\n",
       "      <td>0.945043</td>\n",
       "      <td>5.046575</td>\n",
       "      <td>0.367081</td>\n",
       "    </tr>\n",
       "    <tr>\n",
       "      <th>CoClustering</th>\n",
       "      <td>0.963982</td>\n",
       "      <td>7.318391</td>\n",
       "      <td>0.292018</td>\n",
       "    </tr>\n",
       "  </tbody>\n",
       "</table>\n",
       "</div>"
      ],
      "text/plain": [
       "              test_rmse  fit_time  test_time\n",
       "Algorithm                                   \n",
       "SVD            0.895728  2.124370   0.349039\n",
       "SlopeOne       0.927662  5.806456  10.597846\n",
       "NMF            0.945043  5.046575   0.367081\n",
       "CoClustering   0.963982  7.318391   0.292018"
      ]
     },
     "execution_count": 16,
     "metadata": {},
     "output_type": "execute_result"
    }
   ],
   "source": [
    "surprise_results = pd.DataFrame(benchmark).set_index('Algorithm').sort_values('test_rmse')\n",
    "surprise_results"
   ]
  },
  {
   "cell_type": "markdown",
   "id": "bbb4fdd8-0f40-49c3-90b6-9cbe90eb44f8",
   "metadata": {},
   "source": [
    "Best RMSE is given by the SVD model. Thus Conducting the Parameter Tuning for the SVD model. Further the time required to fit the model is also less compared to the others, meaning that SVD model is time efficient."
   ]
  },
  {
   "cell_type": "markdown",
   "id": "b74d5c52-6347-4606-b238-2ca409a21f97",
   "metadata": {},
   "source": [
    "#### Applying parametor tuning method"
   ]
  },
  {
   "cell_type": "markdown",
   "id": "b44e789d-35aa-4059-b835-c9e9b05c6bf0",
   "metadata": {},
   "source": [
    "#### Splitting the dataset into train and test sets"
   ]
  },
  {
   "cell_type": "code",
   "execution_count": 17,
   "id": "f53dae51-b710-412f-8f47-0dbe4561f42d",
   "metadata": {},
   "outputs": [
    {
     "data": {
      "text/plain": [
       "100004"
      ]
     },
     "execution_count": 17,
     "metadata": {},
     "output_type": "execute_result"
    }
   ],
   "source": [
    "raw_ratings_data = data.raw_ratings\n",
    "len(raw_ratings_data)"
   ]
  },
  {
   "cell_type": "code",
   "execution_count": 18,
   "id": "b80bcacc-e1ab-4f22-9e27-e727a0dca404",
   "metadata": {},
   "outputs": [
    {
     "data": {
      "text/plain": [
       "100004"
      ]
     },
     "execution_count": 18,
     "metadata": {},
     "output_type": "execute_result"
    }
   ],
   "source": [
    "# shuffle ratings \n",
    "random.shuffle(raw_ratings_data)\n",
    "len(raw_ratings_data)"
   ]
  },
  {
   "cell_type": "code",
   "execution_count": 19,
   "id": "8db15262-061e-49db-ad5c-e6d60be6ad48",
   "metadata": {},
   "outputs": [],
   "source": [
    "# split the datset\n",
    "# train = 80% of the data, test = 20% of the data\n",
    "threshold_data = int(.8 * len(raw_ratings_data))\n",
    "train_raw_ratings_data = raw_ratings_data[:threshold_data]\n",
    "test_raw_ratings_data = raw_ratings_data[threshold_data:]\n",
    "\n",
    "data.raw_ratings = train_raw_ratings_data  # data is now the train set"
   ]
  },
  {
   "cell_type": "code",
   "execution_count": 20,
   "id": "6a314757-496f-4d7d-b8fd-f11e644ac58e",
   "metadata": {},
   "outputs": [
    {
     "name": "stdout",
     "output_type": "stream",
     "text": [
      "train set  80003\n",
      "test set  20001\n"
     ]
    },
    {
     "data": {
      "text/plain": [
       "80003"
      ]
     },
     "execution_count": 20,
     "metadata": {},
     "output_type": "execute_result"
    }
   ],
   "source": [
    "print('train set ',len(train_raw_ratings_data))\n",
    "print('test set ',len(test_raw_ratings_data))\n",
    "len(data.raw_ratings)"
   ]
  },
  {
   "cell_type": "markdown",
   "id": "02b38dc5-00a1-4a81-a96d-9f07608585c8",
   "metadata": {},
   "source": [
    "#### Parametor Tunning "
   ]
  },
  {
   "cell_type": "code",
   "execution_count": 21,
   "id": "80482e88-456a-421f-8615-ad8b5ea062a6",
   "metadata": {},
   "outputs": [
    {
     "name": "stdout",
     "output_type": "stream",
     "text": [
      "0.8907695051982962\n",
      "{'n_factors': 30, 'n_epochs': 20, 'lr_all': 0.008, 'reg_all': 0.08}\n"
     ]
    }
   ],
   "source": [
    "#Parameter tunning for SVD algorithm\n",
    "param_grid = {'n_factors': [15, 20, 25, 30], 'n_epochs': [2, 10, 15, 20], 'lr_all': [0.001, 0.003, 0.005, 0.008],\n",
    "              'reg_all': [0.08, 0.1, 0.15]}\n",
    "gs = GridSearchCV(SVD, param_grid, measures=['rmse', 'mae'], cv=5)\n",
    "gs.fit(data)\n",
    "algo = gs.best_estimator['rmse']\n",
    "print(gs.best_score['rmse'])\n",
    "print(gs.best_params['rmse'])"
   ]
  },
  {
   "cell_type": "code",
   "execution_count": 22,
   "id": "e08a2c95-888d-42fd-8c68-7802c87d7a2d",
   "metadata": {},
   "outputs": [],
   "source": [
    "algo = SVD(n_factors = 30, n_epochs =20, lr_all = 0.008, reg_all = 0.08)"
   ]
  },
  {
   "cell_type": "code",
   "execution_count": 23,
   "id": "cb8d8a52-5243-4e60-b0ce-18d8e300a301",
   "metadata": {},
   "outputs": [
    {
     "data": {
      "text/plain": [
       "<surprise.prediction_algorithms.matrix_factorization.SVD at 0x27deffbc110>"
      ]
     },
     "execution_count": 23,
     "metadata": {},
     "output_type": "execute_result"
    }
   ],
   "source": [
    "# retrain on the whole train set\n",
    "trainset = data.build_full_trainset()\n",
    "algo.fit(trainset)"
   ]
  },
  {
   "cell_type": "code",
   "execution_count": 24,
   "id": "ea0031fc-704f-45a0-a7e6-a486ee31f357",
   "metadata": {},
   "outputs": [
    {
     "name": "stdout",
     "output_type": "stream",
     "text": [
      "Biased accuracy on train set ,   RMSE: 0.7916\n",
      "RMSE: 0.7916\n"
     ]
    },
    {
     "data": {
      "text/plain": [
       "0.7916388557805362"
      ]
     },
     "execution_count": 24,
     "metadata": {},
     "output_type": "execute_result"
    }
   ],
   "source": [
    "# Compute biased accuracy on train set\n",
    "predictions_train = algo.test(trainset.build_testset())\n",
    "print('Biased accuracy on train set ,', end='   ')\n",
    "accuracy.rmse(predictions_train)\n",
    "svd_biased_accuaracy = accuracy.rmse(predictions_train)\n",
    "svd_biased_accuaracy"
   ]
  },
  {
   "cell_type": "code",
   "execution_count": 25,
   "id": "a3819c57-a039-4ef1-9ed1-0b5f0d5850a5",
   "metadata": {},
   "outputs": [],
   "source": [
    "# The dumps have been saved and we can now use them whenever we want.\n",
    "\n",
    "dump.dump('./dump_svdtrain', predictions_train, algo)\n",
    "predictions_train, algo = dump.load('./dump_svdtrain')\n",
    "\n",
    "#uid :user id\n",
    "#iid : item id (movie id)\n",
    "#ruit : true rating\n",
    "#est : estimated rating\n",
    "df_svdtrain = pd.DataFrame(predictions_train, columns=['uid', 'iid', 'rui', 'est', 'details'])        \n",
    "\n",
    "#error between true rating and estimated ratings\n",
    "df_svdtrain['err'] = abs(df_svdtrain.est - df_svdtrain.rui)"
   ]
  },
  {
   "cell_type": "code",
   "execution_count": 26,
   "id": "b4bcbc1d-533f-4a4b-abf9-4b54af5116aa",
   "metadata": {},
   "outputs": [
    {
     "data": {
      "text/html": [
       "<div>\n",
       "<style scoped>\n",
       "    .dataframe tbody tr th:only-of-type {\n",
       "        vertical-align: middle;\n",
       "    }\n",
       "\n",
       "    .dataframe tbody tr th {\n",
       "        vertical-align: top;\n",
       "    }\n",
       "\n",
       "    .dataframe thead th {\n",
       "        text-align: right;\n",
       "    }\n",
       "</style>\n",
       "<table border=\"1\" class=\"dataframe\">\n",
       "  <thead>\n",
       "    <tr style=\"text-align: right;\">\n",
       "      <th></th>\n",
       "      <th>uid</th>\n",
       "      <th>iid</th>\n",
       "      <th>rui</th>\n",
       "      <th>est</th>\n",
       "      <th>details</th>\n",
       "      <th>err</th>\n",
       "    </tr>\n",
       "  </thead>\n",
       "  <tbody>\n",
       "    <tr>\n",
       "      <th>0</th>\n",
       "      <td>531</td>\n",
       "      <td>2683</td>\n",
       "      <td>3.0</td>\n",
       "      <td>2.617244</td>\n",
       "      <td>{'was_impossible': False}</td>\n",
       "      <td>0.382756</td>\n",
       "    </tr>\n",
       "    <tr>\n",
       "      <th>1</th>\n",
       "      <td>531</td>\n",
       "      <td>1035</td>\n",
       "      <td>3.5</td>\n",
       "      <td>3.491714</td>\n",
       "      <td>{'was_impossible': False}</td>\n",
       "      <td>0.008286</td>\n",
       "    </tr>\n",
       "    <tr>\n",
       "      <th>2</th>\n",
       "      <td>531</td>\n",
       "      <td>1997</td>\n",
       "      <td>0.5</td>\n",
       "      <td>2.889546</td>\n",
       "      <td>{'was_impossible': False}</td>\n",
       "      <td>2.389546</td>\n",
       "    </tr>\n",
       "    <tr>\n",
       "      <th>3</th>\n",
       "      <td>531</td>\n",
       "      <td>1028</td>\n",
       "      <td>5.0</td>\n",
       "      <td>3.363076</td>\n",
       "      <td>{'was_impossible': False}</td>\n",
       "      <td>1.636924</td>\n",
       "    </tr>\n",
       "    <tr>\n",
       "      <th>4</th>\n",
       "      <td>531</td>\n",
       "      <td>6942</td>\n",
       "      <td>4.5</td>\n",
       "      <td>3.399901</td>\n",
       "      <td>{'was_impossible': False}</td>\n",
       "      <td>1.100099</td>\n",
       "    </tr>\n",
       "  </tbody>\n",
       "</table>\n",
       "</div>"
      ],
      "text/plain": [
       "   uid   iid  rui       est                    details       err\n",
       "0  531  2683  3.0  2.617244  {'was_impossible': False}  0.382756\n",
       "1  531  1035  3.5  3.491714  {'was_impossible': False}  0.008286\n",
       "2  531  1997  0.5  2.889546  {'was_impossible': False}  2.389546\n",
       "3  531  1028  5.0  3.363076  {'was_impossible': False}  1.636924\n",
       "4  531  6942  4.5  3.399901  {'was_impossible': False}  1.100099"
      ]
     },
     "execution_count": 26,
     "metadata": {},
     "output_type": "execute_result"
    }
   ],
   "source": [
    "df_svdtrain.head()"
   ]
  },
  {
   "cell_type": "code",
   "execution_count": 27,
   "id": "e2a8b0f1-5b82-451f-a5b4-7ea377288929",
   "metadata": {},
   "outputs": [],
   "source": [
    "best_predictions = df_svdtrain.sort_values(by='err')[:10]\n",
    "worst_predictions = df_svdtrain.sort_values(by='err')[-10:]"
   ]
  },
  {
   "cell_type": "code",
   "execution_count": 28,
   "id": "01507ebe-6deb-4472-af66-b6bcd5774600",
   "metadata": {},
   "outputs": [
    {
     "data": {
      "text/html": [
       "<div>\n",
       "<style scoped>\n",
       "    .dataframe tbody tr th:only-of-type {\n",
       "        vertical-align: middle;\n",
       "    }\n",
       "\n",
       "    .dataframe tbody tr th {\n",
       "        vertical-align: top;\n",
       "    }\n",
       "\n",
       "    .dataframe thead th {\n",
       "        text-align: right;\n",
       "    }\n",
       "</style>\n",
       "<table border=\"1\" class=\"dataframe\">\n",
       "  <thead>\n",
       "    <tr style=\"text-align: right;\">\n",
       "      <th></th>\n",
       "      <th>uid</th>\n",
       "      <th>iid</th>\n",
       "      <th>rui</th>\n",
       "      <th>est</th>\n",
       "      <th>details</th>\n",
       "      <th>err</th>\n",
       "    </tr>\n",
       "  </thead>\n",
       "  <tbody>\n",
       "    <tr>\n",
       "      <th>63212</th>\n",
       "      <td>298</td>\n",
       "      <td>69481</td>\n",
       "      <td>5.0</td>\n",
       "      <td>5.0</td>\n",
       "      <td>{'was_impossible': False}</td>\n",
       "      <td>0.0</td>\n",
       "    </tr>\n",
       "    <tr>\n",
       "      <th>28485</th>\n",
       "      <td>559</td>\n",
       "      <td>926</td>\n",
       "      <td>5.0</td>\n",
       "      <td>5.0</td>\n",
       "      <td>{'was_impossible': False}</td>\n",
       "      <td>0.0</td>\n",
       "    </tr>\n",
       "    <tr>\n",
       "      <th>28445</th>\n",
       "      <td>559</td>\n",
       "      <td>318</td>\n",
       "      <td>5.0</td>\n",
       "      <td>5.0</td>\n",
       "      <td>{'was_impossible': False}</td>\n",
       "      <td>0.0</td>\n",
       "    </tr>\n",
       "    <tr>\n",
       "      <th>63213</th>\n",
       "      <td>298</td>\n",
       "      <td>608</td>\n",
       "      <td>5.0</td>\n",
       "      <td>5.0</td>\n",
       "      <td>{'was_impossible': False}</td>\n",
       "      <td>0.0</td>\n",
       "    </tr>\n",
       "    <tr>\n",
       "      <th>46732</th>\n",
       "      <td>656</td>\n",
       "      <td>858</td>\n",
       "      <td>5.0</td>\n",
       "      <td>5.0</td>\n",
       "      <td>{'was_impossible': False}</td>\n",
       "      <td>0.0</td>\n",
       "    </tr>\n",
       "    <tr>\n",
       "      <th>63217</th>\n",
       "      <td>298</td>\n",
       "      <td>741</td>\n",
       "      <td>5.0</td>\n",
       "      <td>5.0</td>\n",
       "      <td>{'was_impossible': False}</td>\n",
       "      <td>0.0</td>\n",
       "    </tr>\n",
       "    <tr>\n",
       "      <th>63223</th>\n",
       "      <td>298</td>\n",
       "      <td>2232</td>\n",
       "      <td>5.0</td>\n",
       "      <td>5.0</td>\n",
       "      <td>{'was_impossible': False}</td>\n",
       "      <td>0.0</td>\n",
       "    </tr>\n",
       "    <tr>\n",
       "      <th>74614</th>\n",
       "      <td>622</td>\n",
       "      <td>318</td>\n",
       "      <td>5.0</td>\n",
       "      <td>5.0</td>\n",
       "      <td>{'was_impossible': False}</td>\n",
       "      <td>0.0</td>\n",
       "    </tr>\n",
       "    <tr>\n",
       "      <th>31884</th>\n",
       "      <td>4</td>\n",
       "      <td>2064</td>\n",
       "      <td>5.0</td>\n",
       "      <td>5.0</td>\n",
       "      <td>{'was_impossible': False}</td>\n",
       "      <td>0.0</td>\n",
       "    </tr>\n",
       "    <tr>\n",
       "      <th>76054</th>\n",
       "      <td>546</td>\n",
       "      <td>318</td>\n",
       "      <td>5.0</td>\n",
       "      <td>5.0</td>\n",
       "      <td>{'was_impossible': False}</td>\n",
       "      <td>0.0</td>\n",
       "    </tr>\n",
       "  </tbody>\n",
       "</table>\n",
       "</div>"
      ],
      "text/plain": [
       "       uid    iid  rui  est                    details  err\n",
       "63212  298  69481  5.0  5.0  {'was_impossible': False}  0.0\n",
       "28485  559    926  5.0  5.0  {'was_impossible': False}  0.0\n",
       "28445  559    318  5.0  5.0  {'was_impossible': False}  0.0\n",
       "63213  298    608  5.0  5.0  {'was_impossible': False}  0.0\n",
       "46732  656    858  5.0  5.0  {'was_impossible': False}  0.0\n",
       "63217  298    741  5.0  5.0  {'was_impossible': False}  0.0\n",
       "63223  298   2232  5.0  5.0  {'was_impossible': False}  0.0\n",
       "74614  622    318  5.0  5.0  {'was_impossible': False}  0.0\n",
       "31884    4   2064  5.0  5.0  {'was_impossible': False}  0.0\n",
       "76054  546    318  5.0  5.0  {'was_impossible': False}  0.0"
      ]
     },
     "execution_count": 28,
     "metadata": {},
     "output_type": "execute_result"
    }
   ],
   "source": [
    "# Let's take a look at the best predictions of the algorithm\n",
    "best_predictions"
   ]
  },
  {
   "cell_type": "code",
   "execution_count": 29,
   "id": "85f51ffa-edc8-4ecf-bf5c-f2dd1e4341ca",
   "metadata": {},
   "outputs": [
    {
     "data": {
      "text/html": [
       "<div>\n",
       "<style scoped>\n",
       "    .dataframe tbody tr th:only-of-type {\n",
       "        vertical-align: middle;\n",
       "    }\n",
       "\n",
       "    .dataframe tbody tr th {\n",
       "        vertical-align: top;\n",
       "    }\n",
       "\n",
       "    .dataframe thead th {\n",
       "        text-align: right;\n",
       "    }\n",
       "</style>\n",
       "<table border=\"1\" class=\"dataframe\">\n",
       "  <thead>\n",
       "    <tr style=\"text-align: right;\">\n",
       "      <th></th>\n",
       "      <th>uid</th>\n",
       "      <th>iid</th>\n",
       "      <th>rui</th>\n",
       "      <th>est</th>\n",
       "      <th>details</th>\n",
       "      <th>err</th>\n",
       "    </tr>\n",
       "  </thead>\n",
       "  <tbody>\n",
       "    <tr>\n",
       "      <th>37449</th>\n",
       "      <td>501</td>\n",
       "      <td>111</td>\n",
       "      <td>0.5</td>\n",
       "      <td>4.054699</td>\n",
       "      <td>{'was_impossible': False}</td>\n",
       "      <td>3.554699</td>\n",
       "    </tr>\n",
       "    <tr>\n",
       "      <th>70183</th>\n",
       "      <td>219</td>\n",
       "      <td>4993</td>\n",
       "      <td>0.5</td>\n",
       "      <td>4.058042</td>\n",
       "      <td>{'was_impossible': False}</td>\n",
       "      <td>3.558042</td>\n",
       "    </tr>\n",
       "    <tr>\n",
       "      <th>14664</th>\n",
       "      <td>78</td>\n",
       "      <td>1089</td>\n",
       "      <td>1.0</td>\n",
       "      <td>4.587880</td>\n",
       "      <td>{'was_impossible': False}</td>\n",
       "      <td>3.587880</td>\n",
       "    </tr>\n",
       "    <tr>\n",
       "      <th>47049</th>\n",
       "      <td>646</td>\n",
       "      <td>955</td>\n",
       "      <td>1.0</td>\n",
       "      <td>4.591771</td>\n",
       "      <td>{'was_impossible': False}</td>\n",
       "      <td>3.591771</td>\n",
       "    </tr>\n",
       "    <tr>\n",
       "      <th>72941</th>\n",
       "      <td>479</td>\n",
       "      <td>5618</td>\n",
       "      <td>0.5</td>\n",
       "      <td>4.116877</td>\n",
       "      <td>{'was_impossible': False}</td>\n",
       "      <td>3.616877</td>\n",
       "    </tr>\n",
       "    <tr>\n",
       "      <th>76062</th>\n",
       "      <td>546</td>\n",
       "      <td>1235</td>\n",
       "      <td>0.5</td>\n",
       "      <td>4.129580</td>\n",
       "      <td>{'was_impossible': False}</td>\n",
       "      <td>3.629580</td>\n",
       "    </tr>\n",
       "    <tr>\n",
       "      <th>75018</th>\n",
       "      <td>304</td>\n",
       "      <td>527</td>\n",
       "      <td>0.5</td>\n",
       "      <td>4.171808</td>\n",
       "      <td>{'was_impossible': False}</td>\n",
       "      <td>3.671808</td>\n",
       "    </tr>\n",
       "    <tr>\n",
       "      <th>52310</th>\n",
       "      <td>405</td>\n",
       "      <td>2858</td>\n",
       "      <td>0.5</td>\n",
       "      <td>4.192056</td>\n",
       "      <td>{'was_impossible': False}</td>\n",
       "      <td>3.692056</td>\n",
       "    </tr>\n",
       "    <tr>\n",
       "      <th>30836</th>\n",
       "      <td>660</td>\n",
       "      <td>593</td>\n",
       "      <td>0.5</td>\n",
       "      <td>4.271056</td>\n",
       "      <td>{'was_impossible': False}</td>\n",
       "      <td>3.771056</td>\n",
       "    </tr>\n",
       "    <tr>\n",
       "      <th>27643</th>\n",
       "      <td>287</td>\n",
       "      <td>924</td>\n",
       "      <td>0.5</td>\n",
       "      <td>4.716666</td>\n",
       "      <td>{'was_impossible': False}</td>\n",
       "      <td>4.216666</td>\n",
       "    </tr>\n",
       "  </tbody>\n",
       "</table>\n",
       "</div>"
      ],
      "text/plain": [
       "       uid   iid  rui       est                    details       err\n",
       "37449  501   111  0.5  4.054699  {'was_impossible': False}  3.554699\n",
       "70183  219  4993  0.5  4.058042  {'was_impossible': False}  3.558042\n",
       "14664   78  1089  1.0  4.587880  {'was_impossible': False}  3.587880\n",
       "47049  646   955  1.0  4.591771  {'was_impossible': False}  3.591771\n",
       "72941  479  5618  0.5  4.116877  {'was_impossible': False}  3.616877\n",
       "76062  546  1235  0.5  4.129580  {'was_impossible': False}  3.629580\n",
       "75018  304   527  0.5  4.171808  {'was_impossible': False}  3.671808\n",
       "52310  405  2858  0.5  4.192056  {'was_impossible': False}  3.692056\n",
       "30836  660   593  0.5  4.271056  {'was_impossible': False}  3.771056\n",
       "27643  287   924  0.5  4.716666  {'was_impossible': False}  4.216666"
      ]
     },
     "execution_count": 29,
     "metadata": {},
     "output_type": "execute_result"
    }
   ],
   "source": [
    "# Now, let's look at the prediction with the biggest error\n",
    "worst_predictions"
   ]
  },
  {
   "cell_type": "markdown",
   "id": "325f9774-9048-492c-b59e-574e9d8cb4f8",
   "metadata": {},
   "source": [
    "#### Accuracy measures"
   ]
  },
  {
   "cell_type": "code",
   "execution_count": 30,
   "id": "37fcb56f-8e6c-452e-9d8d-f95e2f1be758",
   "metadata": {},
   "outputs": [],
   "source": [
    "# precision and recall\n",
    "def precision_recall_at_k(predictions, k=10, threshold=3.5):\n",
    "    \"\"\"Return precision and recall at k metrics for each user\"\"\"\n",
    "\n",
    "    # First map the predictions to each user.\n",
    "    user_est_true = defaultdict(list)\n",
    "    for uid, _, true_r, est, _ in predictions:\n",
    "        user_est_true[uid].append((est, true_r))\n",
    "\n",
    "    precisions = dict()\n",
    "    recalls = dict()\n",
    "    for uid, user_ratings in user_est_true.items():\n",
    "\n",
    "        # Sort user ratings by estimated value\n",
    "        user_ratings.sort(key=lambda x: x[0], reverse=True)\n",
    "\n",
    "        # Number of relevant items\n",
    "        n_rel = sum((true_r >= threshold) for (_, true_r) in user_ratings)\n",
    "\n",
    "        # Number of recommended items in top k\n",
    "        n_rec_k = sum((est >= threshold) for (est, _) in user_ratings[:k])\n",
    "\n",
    "        # Number of relevant and recommended items in top k\n",
    "        n_rel_and_rec_k = sum(((true_r >= threshold) and (est >= threshold))\n",
    "                              for (est, true_r) in user_ratings[:k])\n",
    "\n",
    "        # Precision@K: Proportion of recommended items that are relevant\n",
    "        # When n_rec_k is 0, Precision is undefined. We here set it to 0.\n",
    "\n",
    "        precisions[uid] = n_rel_and_rec_k / n_rec_k if n_rec_k != 0 else 0\n",
    "\n",
    "        # Recall@K: Proportion of relevant items that are recommended\n",
    "        # When n_rel is 0, Recall is undefined. We here set it to 0.\n",
    "\n",
    "        recalls[uid] = n_rel_and_rec_k / n_rel if n_rel != 0 else 0\n",
    "\n",
    "    return precisions, recalls"
   ]
  },
  {
   "cell_type": "code",
   "execution_count": 31,
   "id": "78995966-2e28-462f-8696-2093fedf6f7d",
   "metadata": {},
   "outputs": [
    {
     "name": "stdout",
     "output_type": "stream",
     "text": [
      "precision 0.9685697726681319\n",
      "recalls 0.25080202266971313\n"
     ]
    }
   ],
   "source": [
    "#biased accuracies\n",
    "precisions, recalls = precision_recall_at_k(predictions_train, k=10, threshold=3)\n",
    "\n",
    "# Precision and recall can then be averaged over all users\n",
    "svd_biased_precision = sum(prec for prec in precisions.values()) / len(precisions)\n",
    "svd_biased_recall = sum(rec for rec in recalls.values()) / len(recalls)\n",
    "\n",
    "\n",
    "print('precision', svd_biased_precision)\n",
    "print('recalls', svd_biased_recall)"
   ]
  },
  {
   "cell_type": "code",
   "execution_count": 32,
   "id": "37826aad-d194-44e0-acfe-0e0d1a7e1d1e",
   "metadata": {},
   "outputs": [
    {
     "name": "stdout",
     "output_type": "stream",
     "text": [
      "Unbiased accuracy on test set, RMSE: 0.8899\n",
      "RMSE: 0.8899\n"
     ]
    },
    {
     "data": {
      "text/plain": [
       "0.8899108917072022"
      ]
     },
     "execution_count": 32,
     "metadata": {},
     "output_type": "execute_result"
    }
   ],
   "source": [
    "# Compute unbiased accuracy on test set\n",
    "testset = data.construct_testset(test_raw_ratings_data)  # testset is now the test set\n",
    "predictions_test = algo.test(testset)\n",
    "print('Unbiased accuracy on test set,', end=' ')\n",
    "accuracy.rmse(predictions_test)\n",
    "svd_unbiased_accuracy = accuracy.rmse(predictions_test)\n",
    "svd_unbiased_accuracy "
   ]
  },
  {
   "cell_type": "code",
   "execution_count": 33,
   "id": "5e769fc6-efa5-4a0e-9ea5-905f5298f102",
   "metadata": {},
   "outputs": [
    {
     "name": "stdout",
     "output_type": "stream",
     "text": [
      "precision 0.7281651267472168\n",
      "recalls 0.5187628134648622\n"
     ]
    }
   ],
   "source": [
    "precisions, recalls = precision_recall_at_k(predictions_test, k=10, threshold=3.5)\n",
    "\n",
    "# Precision and recall can then be averaged over all users\n",
    "svd_unbiased_precision = sum(prec for prec in precisions.values()) / len(precisions)\n",
    "svd_unbiased_recall = sum(rec for rec in recalls.values()) / len(recalls)\n",
    "\n",
    "\n",
    "print('precision', svd_unbiased_precision)\n",
    "print('recalls', svd_unbiased_recall)"
   ]
  },
  {
   "cell_type": "code",
   "execution_count": 34,
   "id": "7ed10b13-381e-47b3-9ca2-7f3347bcea39",
   "metadata": {},
   "outputs": [],
   "source": [
    "# The dumps have been saved and we can now use them whenever we want.\n",
    "\n",
    "dump.dump('./dump_svdtest', predictions_test, algo)\n",
    "predictions_test, algo = dump.load('./dump_svdtest')\n",
    "\n",
    "df_svdtest = pd.DataFrame(predictions_test, columns=['uid', 'iid', 'rui', 'est', 'details'])        \n",
    "\n",
    "df_svdtest['err'] = abs(df_svdtest.est - df_svdtest.rui)"
   ]
  },
  {
   "cell_type": "code",
   "execution_count": 35,
   "id": "2dac5a48-29bf-4c9e-a75c-888536ae99a1",
   "metadata": {},
   "outputs": [
    {
     "data": {
      "text/html": [
       "<div>\n",
       "<style scoped>\n",
       "    .dataframe tbody tr th:only-of-type {\n",
       "        vertical-align: middle;\n",
       "    }\n",
       "\n",
       "    .dataframe tbody tr th {\n",
       "        vertical-align: top;\n",
       "    }\n",
       "\n",
       "    .dataframe thead th {\n",
       "        text-align: right;\n",
       "    }\n",
       "</style>\n",
       "<table border=\"1\" class=\"dataframe\">\n",
       "  <thead>\n",
       "    <tr style=\"text-align: right;\">\n",
       "      <th></th>\n",
       "      <th>uid</th>\n",
       "      <th>iid</th>\n",
       "      <th>rui</th>\n",
       "      <th>est</th>\n",
       "      <th>details</th>\n",
       "      <th>err</th>\n",
       "    </tr>\n",
       "  </thead>\n",
       "  <tbody>\n",
       "    <tr>\n",
       "      <th>0</th>\n",
       "      <td>380</td>\n",
       "      <td>53129</td>\n",
       "      <td>4.5</td>\n",
       "      <td>3.644090</td>\n",
       "      <td>{'was_impossible': False}</td>\n",
       "      <td>0.855910</td>\n",
       "    </tr>\n",
       "    <tr>\n",
       "      <th>1</th>\n",
       "      <td>30</td>\n",
       "      <td>6419</td>\n",
       "      <td>5.0</td>\n",
       "      <td>3.879053</td>\n",
       "      <td>{'was_impossible': False}</td>\n",
       "      <td>1.120947</td>\n",
       "    </tr>\n",
       "    <tr>\n",
       "      <th>2</th>\n",
       "      <td>433</td>\n",
       "      <td>48774</td>\n",
       "      <td>4.5</td>\n",
       "      <td>3.678797</td>\n",
       "      <td>{'was_impossible': False}</td>\n",
       "      <td>0.821203</td>\n",
       "    </tr>\n",
       "    <tr>\n",
       "      <th>3</th>\n",
       "      <td>564</td>\n",
       "      <td>3491</td>\n",
       "      <td>4.0</td>\n",
       "      <td>3.657554</td>\n",
       "      <td>{'was_impossible': False}</td>\n",
       "      <td>0.342446</td>\n",
       "    </tr>\n",
       "    <tr>\n",
       "      <th>4</th>\n",
       "      <td>73</td>\n",
       "      <td>58301</td>\n",
       "      <td>4.0</td>\n",
       "      <td>3.364760</td>\n",
       "      <td>{'was_impossible': False}</td>\n",
       "      <td>0.635240</td>\n",
       "    </tr>\n",
       "  </tbody>\n",
       "</table>\n",
       "</div>"
      ],
      "text/plain": [
       "   uid    iid  rui       est                    details       err\n",
       "0  380  53129  4.5  3.644090  {'was_impossible': False}  0.855910\n",
       "1   30   6419  5.0  3.879053  {'was_impossible': False}  1.120947\n",
       "2  433  48774  4.5  3.678797  {'was_impossible': False}  0.821203\n",
       "3  564   3491  4.0  3.657554  {'was_impossible': False}  0.342446\n",
       "4   73  58301  4.0  3.364760  {'was_impossible': False}  0.635240"
      ]
     },
     "execution_count": 35,
     "metadata": {},
     "output_type": "execute_result"
    }
   ],
   "source": [
    "df_svdtest.head()"
   ]
  },
  {
   "cell_type": "code",
   "execution_count": 36,
   "id": "a8f04297-e120-4155-b70c-9cc667a3cde1",
   "metadata": {},
   "outputs": [],
   "source": [
    "best_predictions_test = df_svdtest.sort_values(by='err')[:10]\n",
    "worst_predictions_test = df_svdtest.sort_values(by='err')[-10:]"
   ]
  },
  {
   "cell_type": "code",
   "execution_count": 37,
   "id": "84cb0d05-b845-46d1-80d5-482575c14f31",
   "metadata": {},
   "outputs": [
    {
     "data": {
      "text/html": [
       "<div>\n",
       "<style scoped>\n",
       "    .dataframe tbody tr th:only-of-type {\n",
       "        vertical-align: middle;\n",
       "    }\n",
       "\n",
       "    .dataframe tbody tr th {\n",
       "        vertical-align: top;\n",
       "    }\n",
       "\n",
       "    .dataframe thead th {\n",
       "        text-align: right;\n",
       "    }\n",
       "</style>\n",
       "<table border=\"1\" class=\"dataframe\">\n",
       "  <thead>\n",
       "    <tr style=\"text-align: right;\">\n",
       "      <th></th>\n",
       "      <th>uid</th>\n",
       "      <th>iid</th>\n",
       "      <th>rui</th>\n",
       "      <th>est</th>\n",
       "      <th>details</th>\n",
       "      <th>err</th>\n",
       "    </tr>\n",
       "  </thead>\n",
       "  <tbody>\n",
       "    <tr>\n",
       "      <th>1702</th>\n",
       "      <td>298</td>\n",
       "      <td>3000</td>\n",
       "      <td>5.0</td>\n",
       "      <td>5.0</td>\n",
       "      <td>{'was_impossible': False}</td>\n",
       "      <td>0.0</td>\n",
       "    </tr>\n",
       "    <tr>\n",
       "      <th>12225</th>\n",
       "      <td>242</td>\n",
       "      <td>899</td>\n",
       "      <td>5.0</td>\n",
       "      <td>5.0</td>\n",
       "      <td>{'was_impossible': False}</td>\n",
       "      <td>0.0</td>\n",
       "    </tr>\n",
       "    <tr>\n",
       "      <th>10437</th>\n",
       "      <td>145</td>\n",
       "      <td>356</td>\n",
       "      <td>5.0</td>\n",
       "      <td>5.0</td>\n",
       "      <td>{'was_impossible': False}</td>\n",
       "      <td>0.0</td>\n",
       "    </tr>\n",
       "    <tr>\n",
       "      <th>3625</th>\n",
       "      <td>242</td>\n",
       "      <td>1221</td>\n",
       "      <td>5.0</td>\n",
       "      <td>5.0</td>\n",
       "      <td>{'was_impossible': False}</td>\n",
       "      <td>0.0</td>\n",
       "    </tr>\n",
       "    <tr>\n",
       "      <th>10136</th>\n",
       "      <td>298</td>\n",
       "      <td>98491</td>\n",
       "      <td>5.0</td>\n",
       "      <td>5.0</td>\n",
       "      <td>{'was_impossible': False}</td>\n",
       "      <td>0.0</td>\n",
       "    </tr>\n",
       "    <tr>\n",
       "      <th>16534</th>\n",
       "      <td>298</td>\n",
       "      <td>318</td>\n",
       "      <td>5.0</td>\n",
       "      <td>5.0</td>\n",
       "      <td>{'was_impossible': False}</td>\n",
       "      <td>0.0</td>\n",
       "    </tr>\n",
       "    <tr>\n",
       "      <th>6216</th>\n",
       "      <td>89</td>\n",
       "      <td>58559</td>\n",
       "      <td>5.0</td>\n",
       "      <td>5.0</td>\n",
       "      <td>{'was_impossible': False}</td>\n",
       "      <td>0.0</td>\n",
       "    </tr>\n",
       "    <tr>\n",
       "      <th>4882</th>\n",
       "      <td>656</td>\n",
       "      <td>3363</td>\n",
       "      <td>5.0</td>\n",
       "      <td>5.0</td>\n",
       "      <td>{'was_impossible': False}</td>\n",
       "      <td>0.0</td>\n",
       "    </tr>\n",
       "    <tr>\n",
       "      <th>19732</th>\n",
       "      <td>113</td>\n",
       "      <td>16</td>\n",
       "      <td>5.0</td>\n",
       "      <td>5.0</td>\n",
       "      <td>{'was_impossible': False}</td>\n",
       "      <td>0.0</td>\n",
       "    </tr>\n",
       "    <tr>\n",
       "      <th>9634</th>\n",
       "      <td>298</td>\n",
       "      <td>31658</td>\n",
       "      <td>5.0</td>\n",
       "      <td>5.0</td>\n",
       "      <td>{'was_impossible': False}</td>\n",
       "      <td>0.0</td>\n",
       "    </tr>\n",
       "  </tbody>\n",
       "</table>\n",
       "</div>"
      ],
      "text/plain": [
       "       uid    iid  rui  est                    details  err\n",
       "1702   298   3000  5.0  5.0  {'was_impossible': False}  0.0\n",
       "12225  242    899  5.0  5.0  {'was_impossible': False}  0.0\n",
       "10437  145    356  5.0  5.0  {'was_impossible': False}  0.0\n",
       "3625   242   1221  5.0  5.0  {'was_impossible': False}  0.0\n",
       "10136  298  98491  5.0  5.0  {'was_impossible': False}  0.0\n",
       "16534  298    318  5.0  5.0  {'was_impossible': False}  0.0\n",
       "6216    89  58559  5.0  5.0  {'was_impossible': False}  0.0\n",
       "4882   656   3363  5.0  5.0  {'was_impossible': False}  0.0\n",
       "19732  113     16  5.0  5.0  {'was_impossible': False}  0.0\n",
       "9634   298  31658  5.0  5.0  {'was_impossible': False}  0.0"
      ]
     },
     "execution_count": 37,
     "metadata": {},
     "output_type": "execute_result"
    }
   ],
   "source": [
    "# Let's take a look at the best predictions of the algorithm\n",
    "best_predictions_test"
   ]
  },
  {
   "cell_type": "code",
   "execution_count": 38,
   "id": "e87649fd-d84a-458b-aeda-eab1a9da2ffe",
   "metadata": {},
   "outputs": [
    {
     "data": {
      "text/html": [
       "<div>\n",
       "<style scoped>\n",
       "    .dataframe tbody tr th:only-of-type {\n",
       "        vertical-align: middle;\n",
       "    }\n",
       "\n",
       "    .dataframe tbody tr th {\n",
       "        vertical-align: top;\n",
       "    }\n",
       "\n",
       "    .dataframe thead th {\n",
       "        text-align: right;\n",
       "    }\n",
       "</style>\n",
       "<table border=\"1\" class=\"dataframe\">\n",
       "  <thead>\n",
       "    <tr style=\"text-align: right;\">\n",
       "      <th></th>\n",
       "      <th>uid</th>\n",
       "      <th>iid</th>\n",
       "      <th>rui</th>\n",
       "      <th>est</th>\n",
       "      <th>details</th>\n",
       "      <th>err</th>\n",
       "    </tr>\n",
       "  </thead>\n",
       "  <tbody>\n",
       "    <tr>\n",
       "      <th>2521</th>\n",
       "      <td>609</td>\n",
       "      <td>3973</td>\n",
       "      <td>5.0</td>\n",
       "      <td>1.456260</td>\n",
       "      <td>{'was_impossible': False}</td>\n",
       "      <td>3.543740</td>\n",
       "    </tr>\n",
       "    <tr>\n",
       "      <th>1668</th>\n",
       "      <td>607</td>\n",
       "      <td>1035</td>\n",
       "      <td>0.5</td>\n",
       "      <td>4.060158</td>\n",
       "      <td>{'was_impossible': False}</td>\n",
       "      <td>3.560158</td>\n",
       "    </tr>\n",
       "    <tr>\n",
       "      <th>11359</th>\n",
       "      <td>261</td>\n",
       "      <td>235</td>\n",
       "      <td>0.5</td>\n",
       "      <td>4.064354</td>\n",
       "      <td>{'was_impossible': False}</td>\n",
       "      <td>3.564354</td>\n",
       "    </tr>\n",
       "    <tr>\n",
       "      <th>385</th>\n",
       "      <td>430</td>\n",
       "      <td>8665</td>\n",
       "      <td>0.5</td>\n",
       "      <td>4.073541</td>\n",
       "      <td>{'was_impossible': False}</td>\n",
       "      <td>3.573541</td>\n",
       "    </tr>\n",
       "    <tr>\n",
       "      <th>7114</th>\n",
       "      <td>568</td>\n",
       "      <td>356</td>\n",
       "      <td>1.0</td>\n",
       "      <td>4.573772</td>\n",
       "      <td>{'was_impossible': False}</td>\n",
       "      <td>3.573772</td>\n",
       "    </tr>\n",
       "    <tr>\n",
       "      <th>3245</th>\n",
       "      <td>401</td>\n",
       "      <td>2005</td>\n",
       "      <td>1.0</td>\n",
       "      <td>4.629552</td>\n",
       "      <td>{'was_impossible': False}</td>\n",
       "      <td>3.629552</td>\n",
       "    </tr>\n",
       "    <tr>\n",
       "      <th>14621</th>\n",
       "      <td>607</td>\n",
       "      <td>1208</td>\n",
       "      <td>0.5</td>\n",
       "      <td>4.154442</td>\n",
       "      <td>{'was_impossible': False}</td>\n",
       "      <td>3.654442</td>\n",
       "    </tr>\n",
       "    <tr>\n",
       "      <th>13859</th>\n",
       "      <td>145</td>\n",
       "      <td>300</td>\n",
       "      <td>1.0</td>\n",
       "      <td>4.787191</td>\n",
       "      <td>{'was_impossible': False}</td>\n",
       "      <td>3.787191</td>\n",
       "    </tr>\n",
       "    <tr>\n",
       "      <th>497</th>\n",
       "      <td>546</td>\n",
       "      <td>8622</td>\n",
       "      <td>0.5</td>\n",
       "      <td>4.508906</td>\n",
       "      <td>{'was_impossible': False}</td>\n",
       "      <td>4.008906</td>\n",
       "    </tr>\n",
       "    <tr>\n",
       "      <th>12675</th>\n",
       "      <td>599</td>\n",
       "      <td>4973</td>\n",
       "      <td>0.5</td>\n",
       "      <td>4.515711</td>\n",
       "      <td>{'was_impossible': False}</td>\n",
       "      <td>4.015711</td>\n",
       "    </tr>\n",
       "  </tbody>\n",
       "</table>\n",
       "</div>"
      ],
      "text/plain": [
       "       uid   iid  rui       est                    details       err\n",
       "2521   609  3973  5.0  1.456260  {'was_impossible': False}  3.543740\n",
       "1668   607  1035  0.5  4.060158  {'was_impossible': False}  3.560158\n",
       "11359  261   235  0.5  4.064354  {'was_impossible': False}  3.564354\n",
       "385    430  8665  0.5  4.073541  {'was_impossible': False}  3.573541\n",
       "7114   568   356  1.0  4.573772  {'was_impossible': False}  3.573772\n",
       "3245   401  2005  1.0  4.629552  {'was_impossible': False}  3.629552\n",
       "14621  607  1208  0.5  4.154442  {'was_impossible': False}  3.654442\n",
       "13859  145   300  1.0  4.787191  {'was_impossible': False}  3.787191\n",
       "497    546  8622  0.5  4.508906  {'was_impossible': False}  4.008906\n",
       "12675  599  4973  0.5  4.515711  {'was_impossible': False}  4.015711"
      ]
     },
     "execution_count": 38,
     "metadata": {},
     "output_type": "execute_result"
    }
   ],
   "source": [
    "# Now, let's look at the prediction with the biggest error\n",
    "worst_predictions_test"
   ]
  },
  {
   "cell_type": "markdown",
   "id": "aa2687e5-053e-4c14-b28e-5ba862630b68",
   "metadata": {},
   "source": [
    "## Item Based"
   ]
  },
  {
   "cell_type": "code",
   "execution_count": 39,
   "id": "f4c8e6fd-3221-4d62-9210-c47369fba632",
   "metadata": {},
   "outputs": [
    {
     "name": "stdout",
     "output_type": "stream",
     "text": [
      "train set  80003\n",
      "test set  20001\n"
     ]
    },
    {
     "data": {
      "text/plain": [
       "80003"
      ]
     },
     "execution_count": 39,
     "metadata": {},
     "output_type": "execute_result"
    }
   ],
   "source": [
    "# used same train and test set\n",
    "print('train set ',len(train_raw_ratings_data))\n",
    "print('test set ',len(test_raw_ratings_data))\n",
    "len(data.raw_ratings)"
   ]
  },
  {
   "cell_type": "markdown",
   "id": "531a1668-1f77-4705-b818-8124efaaed1f",
   "metadata": {},
   "source": [
    "Considered similarity measures are msd, cosine and pearson"
   ]
  },
  {
   "cell_type": "code",
   "execution_count": 40,
   "id": "fe448ecf-3a59-417b-94c2-7dfdcbe0aa04",
   "metadata": {},
   "outputs": [
    {
     "name": "stdout",
     "output_type": "stream",
     "text": [
      "grid search...\n",
      "Computing the msd similarity matrix...\n",
      "Done computing similarity matrix.\n",
      "Computing the msd similarity matrix...\n",
      "Done computing similarity matrix.\n",
      "Computing the msd similarity matrix...\n",
      "Done computing similarity matrix.\n",
      "Computing the msd similarity matrix...\n",
      "Done computing similarity matrix.\n",
      "Computing the msd similarity matrix...\n",
      "Done computing similarity matrix.\n",
      "Computing the cosine similarity matrix...\n",
      "Done computing similarity matrix.\n",
      "Computing the cosine similarity matrix...\n",
      "Done computing similarity matrix.\n",
      "Computing the cosine similarity matrix...\n",
      "Done computing similarity matrix.\n",
      "Computing the cosine similarity matrix...\n",
      "Done computing similarity matrix.\n",
      "Computing the cosine similarity matrix...\n",
      "Done computing similarity matrix.\n",
      "Computing the pearson similarity matrix...\n",
      "Done computing similarity matrix.\n",
      "Computing the pearson similarity matrix...\n",
      "Done computing similarity matrix.\n",
      "Computing the pearson similarity matrix...\n",
      "Done computing similarity matrix.\n",
      "Computing the pearson similarity matrix...\n",
      "Done computing similarity matrix.\n",
      "Computing the pearson similarity matrix...\n",
      "Done computing similarity matrix.\n",
      "0.9413785463148912\n",
      "{'sim_options': {'name': 'msd', 'user_based': False}}\n"
     ]
    }
   ],
   "source": [
    "# Grid Search\n",
    "print('grid search...')\n",
    "sim_options = {\n",
    "    \"name\": [\"msd\", \"cosine\", \"pearson\"],\n",
    "    \"user_based\": [False],\n",
    "}\n",
    "\n",
    "param_grid = {\"sim_options\": sim_options}\n",
    "\n",
    "gsi = GridSearchCV(KNNBasic, param_grid, measures=[\"rmse\", \"mae\"], cv=5)\n",
    "gsi.fit(data)\n",
    "\n",
    "print(gsi.best_score[\"rmse\"])\n",
    "print(gsi.best_params[\"rmse\"])"
   ]
  },
  {
   "cell_type": "markdown",
   "id": "05666d36-b4b0-40cc-bb0d-e600bcdfe050",
   "metadata": {},
   "source": [
    "for the item based, msd similarity measure gives the best accuracies"
   ]
  },
  {
   "cell_type": "code",
   "execution_count": 41,
   "id": "4d6da9a7-91e7-450a-9c91-d7bf51987544",
   "metadata": {},
   "outputs": [],
   "source": [
    "# get the best estimator\n",
    "algo2 = gsi.best_estimator['rmse']"
   ]
  },
  {
   "cell_type": "code",
   "execution_count": 42,
   "id": "3496adad-8176-4749-a828-e24e6f2bd78e",
   "metadata": {},
   "outputs": [
    {
     "name": "stdout",
     "output_type": "stream",
     "text": [
      "Computing the msd similarity matrix...\n",
      "Done computing similarity matrix.\n"
     ]
    },
    {
     "data": {
      "text/plain": [
       "<surprise.prediction_algorithms.knns.KNNBasic at 0x27dfc8c0250>"
      ]
     },
     "execution_count": 42,
     "metadata": {},
     "output_type": "execute_result"
    }
   ],
   "source": [
    "# retrain on the whole set A\n",
    "trainset = data.build_full_trainset()\n",
    "algo2.fit(trainset)"
   ]
  },
  {
   "cell_type": "code",
   "execution_count": 43,
   "id": "92d0fed1-ecfd-4895-89ef-38aa552686ed",
   "metadata": {},
   "outputs": [
    {
     "name": "stdout",
     "output_type": "stream",
     "text": [
      "Biased accuracy on train,   RMSE: 0.4706\n",
      "RMSE: 0.4706\n"
     ]
    },
    {
     "data": {
      "text/plain": [
       "0.47062980164896173"
      ]
     },
     "execution_count": 43,
     "metadata": {},
     "output_type": "execute_result"
    }
   ],
   "source": [
    "# Compute biased accuracy on train set\n",
    "predictions2_train = algo2.test(trainset.build_testset())\n",
    "print('Biased accuracy on train,', end='   ')\n",
    "accuracy.rmse(predictions2_train)\n",
    "item_biased_accuracy = accuracy.rmse(predictions2_train)\n",
    "item_biased_accuracy"
   ]
  },
  {
   "cell_type": "code",
   "execution_count": 44,
   "id": "8a204e8a-11d3-4c54-b5cb-0b64517235dc",
   "metadata": {},
   "outputs": [
    {
     "name": "stdout",
     "output_type": "stream",
     "text": [
      "precision 0.9871833084947838\n",
      "recalls 0.25382099819987464\n"
     ]
    }
   ],
   "source": [
    "precisions, recalls = precision_recall_at_k(predictions2_train, k=10, threshold=3)\n",
    "\n",
    "# Precision and recall can then be averaged over all users\n",
    "item_biased_precision = sum(prec for prec in precisions.values()) / len(precisions)\n",
    "item_biased_recall = sum(rec for rec in recalls.values()) / len(recalls)\n",
    "\n",
    "\n",
    "print('precision', item_biased_precision)\n",
    "print('recalls', item_biased_recall)"
   ]
  },
  {
   "cell_type": "code",
   "execution_count": 45,
   "id": "7427b7fd-2dfa-4b2c-baa8-437bc86e933f",
   "metadata": {},
   "outputs": [
    {
     "name": "stdout",
     "output_type": "stream",
     "text": [
      "Unbiased accuracy on test, RMSE: 0.9348\n",
      "RMSE: 0.9348\n"
     ]
    },
    {
     "data": {
      "text/plain": [
       "0.9347841914700026"
      ]
     },
     "execution_count": 45,
     "metadata": {},
     "output_type": "execute_result"
    }
   ],
   "source": [
    "# Compute unbiased accuracy on test set\n",
    "# predict for the test set\n",
    "testset = data.construct_testset(test_raw_ratings_data)  # testset is now the test\n",
    "predictions2_test = algo2.test(testset)\n",
    "print('Unbiased accuracy on test,', end=' ')\n",
    "accuracy.rmse(predictions2_test)\n",
    "item_unbiased_accuracy = accuracy.rmse(predictions2_test)\n",
    "item_unbiased_accuracy"
   ]
  },
  {
   "cell_type": "code",
   "execution_count": 46,
   "id": "a34ff9c4-5c3e-410f-8ae3-37c8cd91a721",
   "metadata": {},
   "outputs": [
    {
     "name": "stdout",
     "output_type": "stream",
     "text": [
      "precision 0.864668917318169\n",
      "recalls 0.6031314230798884\n"
     ]
    }
   ],
   "source": [
    "precisions, recalls = precision_recall_at_k(predictions2_test, k=10, threshold=3)\n",
    "\n",
    "# Precision and recall can then be averaged over all users\n",
    "item_unbiased_precision = sum(prec for prec in precisions.values()) / len(precisions)\n",
    "item_unbiased_recall = sum(rec for rec in recalls.values()) / len(recalls)\n",
    "\n",
    "\n",
    "print('precision', item_unbiased_precision)\n",
    "print('recalls', item_unbiased_recall)"
   ]
  },
  {
   "cell_type": "markdown",
   "id": "13fc104b-b074-40aa-8a16-0446c439394b",
   "metadata": {},
   "source": [
    "## User Based"
   ]
  },
  {
   "cell_type": "code",
   "execution_count": 47,
   "id": "86409527-fa1e-404c-8524-8d79827b3d9d",
   "metadata": {},
   "outputs": [
    {
     "name": "stdout",
     "output_type": "stream",
     "text": [
      "train set  80003\n",
      "test set  20001\n"
     ]
    },
    {
     "data": {
      "text/plain": [
       "80003"
      ]
     },
     "execution_count": 47,
     "metadata": {},
     "output_type": "execute_result"
    }
   ],
   "source": [
    "# used same train and test set\n",
    "print('train set ',len(train_raw_ratings_data))\n",
    "print('test set ',len(test_raw_ratings_data))\n",
    "len(data.raw_ratings)"
   ]
  },
  {
   "cell_type": "markdown",
   "id": "ecc8fb3c-3efe-448c-b7e2-23589dcc41bf",
   "metadata": {},
   "source": [
    "considered the similarity measures are 'msd', 'cosine' and 'pearson'"
   ]
  },
  {
   "cell_type": "code",
   "execution_count": 48,
   "id": "c6154276-16ed-4068-90a2-d8dabb6d5836",
   "metadata": {},
   "outputs": [
    {
     "name": "stdout",
     "output_type": "stream",
     "text": [
      "grid search...\n",
      "Computing the msd similarity matrix...\n",
      "Done computing similarity matrix.\n",
      "Computing the msd similarity matrix...\n",
      "Done computing similarity matrix.\n",
      "Computing the msd similarity matrix...\n",
      "Done computing similarity matrix.\n",
      "Computing the msd similarity matrix...\n",
      "Done computing similarity matrix.\n",
      "Computing the msd similarity matrix...\n",
      "Done computing similarity matrix.\n",
      "Computing the cosine similarity matrix...\n",
      "Done computing similarity matrix.\n",
      "Computing the cosine similarity matrix...\n",
      "Done computing similarity matrix.\n",
      "Computing the cosine similarity matrix...\n",
      "Done computing similarity matrix.\n",
      "Computing the cosine similarity matrix...\n",
      "Done computing similarity matrix.\n",
      "Computing the cosine similarity matrix...\n",
      "Done computing similarity matrix.\n",
      "Computing the pearson similarity matrix...\n",
      "Done computing similarity matrix.\n",
      "Computing the pearson similarity matrix...\n",
      "Done computing similarity matrix.\n",
      "Computing the pearson similarity matrix...\n",
      "Done computing similarity matrix.\n",
      "Computing the pearson similarity matrix...\n",
      "Done computing similarity matrix.\n",
      "Computing the pearson similarity matrix...\n",
      "Done computing similarity matrix.\n",
      "0.9834928918065827\n",
      "{'sim_options': {'name': 'msd', 'user_based': True}}\n"
     ]
    }
   ],
   "source": [
    "# Grid Search\n",
    "print('grid search...')\n",
    "sim_options = {\n",
    "    \"name\": [\"msd\", \"cosine\", \"pearson\"],\n",
    "    \"user_based\": [True],\n",
    "}\n",
    "\n",
    "param_grid = {\"sim_options\": sim_options}\n",
    "\n",
    "gsu = GridSearchCV(KNNBasic, param_grid, measures=[\"rmse\", \"mae\"], cv=5)\n",
    "gsu.fit(data)\n",
    "\n",
    "print(gsu.best_score[\"rmse\"])\n",
    "print(gsu.best_params[\"rmse\"])"
   ]
  },
  {
   "cell_type": "markdown",
   "id": "1782805b-1644-4bef-a385-b6482233794c",
   "metadata": {},
   "source": [
    "for user based, similarity measure 'msd' gives the best accuraices"
   ]
  },
  {
   "cell_type": "code",
   "execution_count": 49,
   "id": "1f730621-9350-4c64-bdd8-dab84eae0e22",
   "metadata": {},
   "outputs": [],
   "source": [
    "# get the best estimator\n",
    "algo3 = gsu.best_estimator['rmse']"
   ]
  },
  {
   "cell_type": "code",
   "execution_count": 50,
   "id": "53932355-0c01-4165-b9d1-cc879c7a7fcb",
   "metadata": {},
   "outputs": [
    {
     "name": "stdout",
     "output_type": "stream",
     "text": [
      "Computing the msd similarity matrix...\n",
      "Done computing similarity matrix.\n"
     ]
    },
    {
     "data": {
      "text/plain": [
       "<surprise.prediction_algorithms.knns.KNNBasic at 0x27dfbedb590>"
      ]
     },
     "execution_count": 50,
     "metadata": {},
     "output_type": "execute_result"
    }
   ],
   "source": [
    "# retrain on the whole set A\n",
    "trainset = data.build_full_trainset()\n",
    "algo3.fit(trainset)"
   ]
  },
  {
   "cell_type": "code",
   "execution_count": 51,
   "id": "eefcaa5c-99c5-4bae-a901-68b08f50225e",
   "metadata": {},
   "outputs": [
    {
     "name": "stdout",
     "output_type": "stream",
     "text": [
      "Biased accuracy on train,   RMSE: 0.7159\n",
      "RMSE: 0.7159\n"
     ]
    },
    {
     "data": {
      "text/plain": [
       "0.7159473937752777"
      ]
     },
     "execution_count": 51,
     "metadata": {},
     "output_type": "execute_result"
    }
   ],
   "source": [
    "# Compute biased accuracy on train set\n",
    "predictions3_train = algo3.test(trainset.build_testset())\n",
    "print('Biased accuracy on train,', end='   ')\n",
    "accuracy.rmse(predictions3_train)\n",
    "user_biased_accuracy = accuracy.rmse(predictions3_train)\n",
    "user_biased_accuracy"
   ]
  },
  {
   "cell_type": "code",
   "execution_count": 52,
   "id": "7ebdbec6-6eb0-41fe-94a5-cf033ecae2ed",
   "metadata": {},
   "outputs": [
    {
     "name": "stdout",
     "output_type": "stream",
     "text": [
      "precision 0.9903378042722306\n",
      "recalls 0.27144497201211754\n"
     ]
    }
   ],
   "source": [
    "precisions, recalls = precision_recall_at_k(predictions3_train, k=10, threshold=3)\n",
    "\n",
    "# Precision and recall can then be averaged over all users\n",
    "user_biased_precision = sum(prec for prec in precisions.values()) / len(precisions)\n",
    "user_biased_recall = sum(rec for rec in recalls.values()) / len(recalls)\n",
    "\n",
    "\n",
    "print('precision', user_biased_precision)\n",
    "print('recalls', user_biased_recall)"
   ]
  },
  {
   "cell_type": "code",
   "execution_count": 53,
   "id": "34b9befa-866d-462b-8e04-08f0740025a9",
   "metadata": {},
   "outputs": [
    {
     "name": "stdout",
     "output_type": "stream",
     "text": [
      "Unbiased accuracy on test, RMSE: 0.9654\n",
      "RMSE: 0.9654\n"
     ]
    },
    {
     "data": {
      "text/plain": [
       "0.9653700598949658"
      ]
     },
     "execution_count": 53,
     "metadata": {},
     "output_type": "execute_result"
    }
   ],
   "source": [
    "# Compute unbiased accuracy on test set\n",
    "# predict for the test set\n",
    "testset = data.construct_testset(test_raw_ratings_data)  # testset is now the test\n",
    "predictions3_test = algo3.test(testset)\n",
    "print('Unbiased accuracy on test,', end=' ')\n",
    "accuracy.rmse(predictions3_test)\n",
    "user_unbiased_accuracy = accuracy.rmse(predictions3_test)\n",
    "user_unbiased_accuracy"
   ]
  },
  {
   "cell_type": "code",
   "execution_count": 54,
   "id": "1d4e53d3-b409-4ba0-80e4-24d46ea73833",
   "metadata": {},
   "outputs": [
    {
     "name": "stdout",
     "output_type": "stream",
     "text": [
      "precision 0.902437218668561\n",
      "recalls 0.6122181473703477\n"
     ]
    }
   ],
   "source": [
    "precisions, recalls = precision_recall_at_k(predictions3_test, k=10, threshold=3)\n",
    "\n",
    "# Precision and recall can then be averaged over all users\n",
    "user_unbiased_precision = sum(prec for prec in precisions.values()) / len(precisions)\n",
    "user_unbiased_recall = sum(rec for rec in recalls.values()) / len(recalls)\n",
    "\n",
    "\n",
    "print('precision', user_unbiased_precision)\n",
    "print('recalls', user_unbiased_recall)"
   ]
  },
  {
   "cell_type": "markdown",
   "id": "f8c0a9d5-8d2f-4d16-89f7-e6ca85052721",
   "metadata": {},
   "source": [
    "### Accuracy Comparison"
   ]
  },
  {
   "cell_type": "code",
   "execution_count": 55,
   "id": "6010818a-c20d-42cf-828c-bf7478184409",
   "metadata": {},
   "outputs": [],
   "source": [
    "# Creation of the dataframe.\n",
    "dict = {'measure': ['rmse','precision','recall'],\n",
    "                'svd_biased': [svd_biased_accuaracy, svd_biased_precision, svd_biased_recall],\n",
    "                'svd_unbiased': [svd_unbiased_accuracy, svd_unbiased_precision, svd_unbiased_recall],\n",
    "                'item_biased' :[item_biased_accuracy, item_biased_precision, item_biased_recall],\n",
    "                'item_unbiased' : [item_unbiased_accuracy, item_unbiased_precision, item_unbiased_recall],\n",
    "                'user_biased' :[user_biased_accuracy, user_biased_precision, user_biased_recall],\n",
    "                'user_unbiased' : [user_unbiased_accuracy, user_unbiased_precision, user_unbiased_recall]}\n",
    "measures = pd.DataFrame(dict)"
   ]
  },
  {
   "cell_type": "code",
   "execution_count": 56,
   "id": "baa16f3d-7bc6-4a93-a5d8-0957e99008eb",
   "metadata": {},
   "outputs": [
    {
     "data": {
      "text/html": [
       "<div>\n",
       "<style scoped>\n",
       "    .dataframe tbody tr th:only-of-type {\n",
       "        vertical-align: middle;\n",
       "    }\n",
       "\n",
       "    .dataframe tbody tr th {\n",
       "        vertical-align: top;\n",
       "    }\n",
       "\n",
       "    .dataframe thead th {\n",
       "        text-align: right;\n",
       "    }\n",
       "</style>\n",
       "<table border=\"1\" class=\"dataframe\">\n",
       "  <thead>\n",
       "    <tr style=\"text-align: right;\">\n",
       "      <th></th>\n",
       "      <th>measure</th>\n",
       "      <th>svd_biased</th>\n",
       "      <th>svd_unbiased</th>\n",
       "      <th>item_biased</th>\n",
       "      <th>item_unbiased</th>\n",
       "      <th>user_biased</th>\n",
       "      <th>user_unbiased</th>\n",
       "    </tr>\n",
       "  </thead>\n",
       "  <tbody>\n",
       "    <tr>\n",
       "      <th>0</th>\n",
       "      <td>rmse</td>\n",
       "      <td>0.791639</td>\n",
       "      <td>0.889911</td>\n",
       "      <td>0.470630</td>\n",
       "      <td>0.934784</td>\n",
       "      <td>0.715947</td>\n",
       "      <td>0.965370</td>\n",
       "    </tr>\n",
       "    <tr>\n",
       "      <th>1</th>\n",
       "      <td>precision</td>\n",
       "      <td>0.968570</td>\n",
       "      <td>0.728165</td>\n",
       "      <td>0.987183</td>\n",
       "      <td>0.864669</td>\n",
       "      <td>0.990338</td>\n",
       "      <td>0.902437</td>\n",
       "    </tr>\n",
       "    <tr>\n",
       "      <th>2</th>\n",
       "      <td>recall</td>\n",
       "      <td>0.250802</td>\n",
       "      <td>0.518763</td>\n",
       "      <td>0.253821</td>\n",
       "      <td>0.603131</td>\n",
       "      <td>0.271445</td>\n",
       "      <td>0.612218</td>\n",
       "    </tr>\n",
       "  </tbody>\n",
       "</table>\n",
       "</div>"
      ],
      "text/plain": [
       "     measure  svd_biased  svd_unbiased  item_biased  item_unbiased  \\\n",
       "0       rmse    0.791639      0.889911     0.470630       0.934784   \n",
       "1  precision    0.968570      0.728165     0.987183       0.864669   \n",
       "2     recall    0.250802      0.518763     0.253821       0.603131   \n",
       "\n",
       "   user_biased  user_unbiased  \n",
       "0     0.715947       0.965370  \n",
       "1     0.990338       0.902437  \n",
       "2     0.271445       0.612218  "
      ]
     },
     "execution_count": 56,
     "metadata": {},
     "output_type": "execute_result"
    }
   ],
   "source": [
    "measures"
   ]
  },
  {
   "cell_type": "markdown",
   "id": "22601a43-1bfa-478e-98be-808315e5f21e",
   "metadata": {},
   "source": [
    "According to the results minimum unbiased RMSE id given by SVD method, the difference between svd and item based is : 0.044873, svd and user based is : 0.075459\n",
    "Highest unbiased precision is given by user based method and second highest given by svd method, the difference between those two precision values are, 0.018677.\n",
    "Highest unbiased recall is given by user based method, the difference between user based and recall values are, 0.017846.\n",
    "\n",
    "Eventhough precision and recall is higher for user based method than SVD, the RMSE value is also high than SVD compared to other measures. Therefore SVD algorithm is considering as the best method for the analysis"
   ]
  },
  {
   "cell_type": "markdown",
   "id": "ffcc0648-f665-4f55-b8db-f681d640473c",
   "metadata": {},
   "source": [
    "### Recomendation for each user"
   ]
  },
  {
   "cell_type": "code",
   "execution_count": 57,
   "id": "b6a3905d-a6ef-4fea-a4ee-0acc085d7be2",
   "metadata": {},
   "outputs": [],
   "source": [
    "def get_top_n(predictions, n=10):\n",
    "    \"\"\"Return the top-N recommendation for each user from a set of predictions.\n",
    "\n",
    "    Args:\n",
    "        predictions(list of Prediction objects): The list of predictions, as\n",
    "            returned by the test method of an algorithm.\n",
    "        n(int): The number of recommendation to output for each user. Default\n",
    "            is 2.\n",
    "\n",
    "    Returns:\n",
    "    A dict where keys are user (raw) ids and values are lists of tuples:\n",
    "        [(raw item id, rating estimation), ...] of size n.\n",
    "    \"\"\"\n",
    "\n",
    "    # First map the predictions to each user.\n",
    "    top_n = defaultdict(list)\n",
    "    for uid, iid, true_r, est, _ in predictions:\n",
    "        top_n[uid].append((iid, est))\n",
    "\n",
    "    # Then sort the predictions for each user and retrieve the k highest ones.\n",
    "    for uid, user_ratings in top_n.items():\n",
    "        user_ratings.sort(key=lambda x: x[1], reverse=True)\n",
    "        top_n[uid] = user_ratings[:n]\n",
    "\n",
    "    return top_n"
   ]
  },
  {
   "cell_type": "code",
   "execution_count": 58,
   "id": "26d8404a-c923-4dd4-9d91-a032624bf02c",
   "metadata": {},
   "outputs": [],
   "source": [
    "#set the seed\n",
    "my_seed = 0\n",
    "random.seed(my_seed)\n",
    "np.random.seed(my_seed)"
   ]
  },
  {
   "cell_type": "code",
   "execution_count": 59,
   "id": "3a52fb16-129a-4e93-9946-48f94ceb6906",
   "metadata": {},
   "outputs": [],
   "source": [
    "# A reader is still needed but only the rating_scale param is requiered.\n",
    "reader = Reader(rating_scale=(1, 5))"
   ]
  },
  {
   "cell_type": "code",
   "execution_count": 60,
   "id": "79d03411-0c43-4dfe-9940-7435abebec80",
   "metadata": {},
   "outputs": [
    {
     "data": {
      "text/plain": [
       "<surprise.dataset.DatasetAutoFolds at 0x27deffe58d0>"
      ]
     },
     "execution_count": 60,
     "metadata": {},
     "output_type": "execute_result"
    }
   ],
   "source": [
    "# The columns must correspond to user id, item id and ratings (in that order).\n",
    "data2 = Dataset.load_from_df(df2[['userId', 'movieId', 'rating']], reader)\n",
    "data2"
   ]
  },
  {
   "cell_type": "code",
   "execution_count": 61,
   "id": "de98b8fb-c13c-443f-bb7e-cc8b18035ce8",
   "metadata": {},
   "outputs": [],
   "source": [
    "trainset = data2.build_full_trainset()"
   ]
  },
  {
   "cell_type": "code",
   "execution_count": 62,
   "id": "148400f2-362a-4562-af48-bc647a31375f",
   "metadata": {},
   "outputs": [
    {
     "data": {
      "text/plain": [
       "<surprise.prediction_algorithms.matrix_factorization.SVD at 0x27df2dc0790>"
      ]
     },
     "execution_count": 62,
     "metadata": {},
     "output_type": "execute_result"
    }
   ],
   "source": [
    "algo.fit(trainset)"
   ]
  },
  {
   "cell_type": "code",
   "execution_count": 63,
   "id": "183b8b0e-7281-42a9-b7de-eba2e0deb1f1",
   "metadata": {},
   "outputs": [
    {
     "name": "stdout",
     "output_type": "stream",
     "text": [
      "RMSE: 0.4982\n"
     ]
    },
    {
     "data": {
      "text/plain": [
       "0.49818442717786343"
      ]
     },
     "execution_count": 63,
     "metadata": {},
     "output_type": "execute_result"
    }
   ],
   "source": [
    "# Then predict ratings for all pairs (u, i) that are NOT in the training set.\n",
    "testset = trainset.build_anti_testset()\n",
    "predictions = algo.test(testset)\n",
    "accuracy.rmse(predictions)"
   ]
  },
  {
   "cell_type": "code",
   "execution_count": 64,
   "id": "86ee5472-25bf-4d37-879c-10c59a415770",
   "metadata": {},
   "outputs": [
    {
     "data": {
      "text/plain": [
       "5983282"
      ]
     },
     "execution_count": 64,
     "metadata": {},
     "output_type": "execute_result"
    }
   ],
   "source": [
    "len(testset)"
   ]
  },
  {
   "cell_type": "code",
   "execution_count": 65,
   "id": "49d08344-cd32-45b8-b6ab-0046b8e3dea9",
   "metadata": {},
   "outputs": [],
   "source": [
    "top_n = get_top_n(predictions, n=10)"
   ]
  },
  {
   "cell_type": "code",
   "execution_count": 66,
   "id": "a281f85d-ed98-4a88-a01a-12ac2db0beb6",
   "metadata": {},
   "outputs": [
    {
     "name": "stdout",
     "output_type": "stream",
     "text": [
      "1 [905, 858, 926, 318, 1939, 3462, 7502, 8132, 1945, 899]\n",
      "2 [318, 905, 969, 8132, 1217, 2318, 1945, 858, 1147, 3030]\n",
      "3 [8132, 858, 969, 926, 905, 3462, 7502, 3035, 1945, 3030]\n",
      "4 [318, 1221, 7502, 926, 1252, 3462, 905, 3035, 1939, 1217]\n",
      "5 [969, 905, 318, 3462, 1948, 926, 8132, 1945, 1217, 3088]\n",
      "6 [858, 318, 8132, 1221, 7502, 3462, 969, 905, 1217, 1939]\n",
      "7 [858, 1221, 7502, 1939, 905, 969, 926, 1948, 1228, 3462]\n",
      "8 [8132, 905, 7502, 3462, 1939, 1217, 926, 2318, 969, 1945]\n",
      "9 [8132, 858, 7502, 3462, 905, 1945, 3035, 1939, 926, 1147]\n",
      "10 [3469, 969, 905, 926, 3088, 8132, 3462, 858, 1945, 899]\n",
      "11 [318, 905, 8132, 926, 3462, 858, 3030, 1945, 1147, 1254]\n",
      "12 [7502, 969, 8132, 905, 7153, 926, 3469, 1945, 318, 2300]\n",
      "13 [905, 8132, 858, 969, 1945, 926, 1939, 1228, 1221, 3462]\n",
      "14 [905, 7502, 318, 969, 858, 926, 994, 3462, 1228, 8132]\n",
      "15 [8132, 905, 1948, 969, 3035, 3469, 1939, 7502, 3037, 968]\n",
      "16 [905, 926, 969, 8132, 3030, 7502, 1945, 1948, 3462, 2318]\n",
      "17 [905, 1939, 8132, 3462, 7502, 1228, 926, 1217, 6787, 969]\n",
      "18 [858, 318, 8132, 1945, 926, 905, 7502, 3462, 2318, 969]\n",
      "19 [926, 905, 1948, 3462, 7502, 2064, 994, 1939, 8132, 1945]\n",
      "20 [1147, 3035, 969, 8132, 1254, 926, 3022, 5114, 1948, 3462]\n",
      "21 [318, 905, 3462, 1939, 926, 8132, 7502, 1948, 50, 2064]\n",
      "22 [969, 905, 3462, 318, 1217, 7502, 926, 1948, 2064, 8132]\n",
      "23 [7502, 1939, 1147, 8132, 3030, 994, 3035, 2318, 3683, 2064]\n",
      "24 [905, 969, 858, 318, 7502, 1217, 926, 1939, 1221, 2318]\n",
      "25 [8132, 318, 7502, 858, 3462, 905, 926, 1217, 3035, 1147]\n",
      "26 [1939, 913, 3462, 905, 8132, 2064, 1212, 899, 908, 926]\n",
      "27 [858, 3462, 318, 8132, 905, 926, 2318, 1217, 2064, 969]\n",
      "28 [318, 969, 858, 6787, 3035, 1147, 2318, 1939, 8132, 905]\n",
      "29 [318, 858, 7502, 905, 1228, 2064, 8132, 926, 912, 306]\n",
      "30 [905, 7502, 926, 3462, 1939, 8132, 1217, 3088, 1172, 1948]\n",
      "31 [7502, 905, 8132, 926, 3030, 969, 1945, 2064, 994, 1217]\n",
      "32 [858, 3462, 1939, 318, 1945, 969, 905, 899, 2318, 926]\n",
      "33 [858, 3462, 318, 1217, 1945, 5114, 7502, 899, 8132, 1299]\n",
      "34 [318, 926, 1945, 7502, 3462, 1939, 3088, 994, 905, 1948]\n",
      "35 [318, 926, 1939, 858, 969, 5114, 3462, 8132, 905, 899]\n",
      "36 [858, 926, 905, 8132, 7502, 969, 3462, 1945, 1221, 1217]\n",
      "37 [8132, 318, 858, 926, 7502, 3462, 905, 3035, 2318, 969]\n",
      "38 [1945, 905, 3462, 969, 8132, 1939, 1948, 1217, 7502, 3035]\n",
      "39 [905, 969, 7502, 318, 926, 1939, 1217, 3030, 1945, 1172]\n",
      "40 [926, 858, 905, 969, 318, 1945, 1939, 3462, 3035, 1172]\n",
      "41 [318, 905, 926, 8132, 969, 3462, 858, 7502, 2064, 1217]\n",
      "42 [858, 905, 926, 1939, 969, 3462, 1228, 898, 1945, 1221]\n",
      "43 [858, 318, 905, 1945, 1939, 3469, 8132, 1228, 1147, 913]\n",
      "44 [318, 8132, 858, 926, 905, 969, 2318, 1945, 1147, 3462]\n",
      "45 [858, 318, 1221, 7502, 912, 3462, 926, 905, 3310, 1228]\n",
      "46 [1029, 1172, 1263, 1287, 1293, 1343, 1953, 2968, 3671, 17]\n",
      "47 [905, 969, 1945, 7502, 858, 318, 3462, 926, 1939, 1217]\n",
      "48 [318, 905, 926, 969, 7502, 3462, 1217, 1945, 1948, 1228]\n",
      "49 [926, 1945, 318, 899, 3462, 905, 858, 3035, 7502, 5114]\n",
      "50 [8132, 905, 858, 1939, 926, 318, 969, 3462, 1945, 1221]\n",
      "51 [318, 858, 3035, 8132, 1217, 1945, 3462, 969, 926, 922]\n",
      "52 [969, 905, 318, 1945, 858, 1217, 926, 3035, 5114, 898]\n",
      "53 [318, 1945, 8132, 7502, 926, 858, 2973, 3035, 1228, 905]\n",
      "54 [905, 969, 1945, 926, 3035, 1228, 1217, 1254, 50, 858]\n",
      "55 [858, 318, 969, 7502, 926, 1221, 905, 1945, 1217, 1939]\n",
      "56 [858, 7502, 1221, 1939, 3035, 6787, 2064, 8132, 1945, 1361]\n",
      "57 [8132, 905, 1217, 7502, 1939, 926, 3462, 969, 1228, 994]\n",
      "58 [858, 1221, 7502, 1939, 905, 527, 318, 58559, 4993, 926]\n",
      "59 [7502, 8132, 1254, 5618, 1939, 98491, 905, 994, 3022, 56782]\n",
      "60 [318, 1945, 969, 1939, 905, 1948, 926, 50, 3462, 3088]\n",
      "61 [969, 7502, 1945, 926, 318, 905, 3683, 1254, 3469, 858]\n",
      "62 [858, 905, 926, 7502, 8132, 3462, 969, 1221, 1939, 1945]\n",
      "63 [7502, 926, 296, 1254, 2064, 858, 3030, 994, 1218, 1228]\n",
      "64 [858, 926, 3462, 8132, 1948, 7502, 1939, 905, 1217, 969]\n",
      "65 [905, 1217, 969, 7502, 318, 1939, 3462, 8132, 1945, 913]\n",
      "66 [3462, 1172, 1939, 318, 1221, 8132, 1217, 905, 1948, 969]\n",
      "67 [858, 7502, 3462, 8132, 905, 926, 1945, 913, 3088, 1939]\n",
      "68 [905, 969, 858, 926, 8132, 1948, 2064, 1172, 3462, 7502]\n",
      "69 [858, 3035, 7502, 1945, 1217, 2318, 1147, 905, 926, 3462]\n",
      "70 [1172, 50, 296, 527, 593, 318, 1197, 2318, 260, 858]\n",
      "71 [1945, 318, 969, 1948, 926, 858, 2064, 3035, 3469, 7502]\n",
      "72 [3462, 926, 1945, 8132, 905, 969, 1939, 2064, 1252, 899]\n",
      "73 [1939, 905, 926, 969, 3462, 8132, 1945, 6787, 1217, 3035]\n",
      "74 [858, 318, 3462, 7502, 969, 926, 1945, 1948, 3088, 1217]\n",
      "75 [3462, 905, 926, 969, 8132, 116, 1945, 2064, 1948, 7502]\n",
      "76 [858, 318, 905, 969, 7502, 3462, 926, 1945, 1939, 2318]\n",
      "77 [858, 8132, 3462, 905, 926, 1939, 969, 7502, 1945, 1172]\n",
      "78 [926, 1217, 1945, 969, 905, 3088, 8132, 1948, 7502, 232]\n",
      "79 [858, 7502, 318, 1221, 926, 905, 1939, 8132, 969, 6787]\n",
      "80 [858, 1221, 318, 8132, 3462, 905, 1217, 7502, 1939, 926]\n",
      "81 [905, 969, 858, 926, 7502, 1948, 1945, 1939, 1217, 3462]\n",
      "82 [858, 7502, 1221, 3462, 905, 1939, 1252, 926, 2318, 527]\n",
      "83 [318, 858, 3462, 926, 1147, 1217, 922, 905, 3035, 7502]\n",
      "84 [926, 969, 318, 1948, 8132, 1945, 905, 858, 1228, 3462]\n",
      "85 [969, 926, 1948, 1217, 2203, 26729, 3310, 3088, 7502, 3359]\n",
      "86 [858, 926, 905, 969, 8132, 1945, 1228, 1221, 2064, 7502]\n",
      "87 [7502, 1945, 926, 969, 318, 858, 905, 1254, 2064, 3035]\n",
      "88 [858, 1939, 1221, 3462, 905, 926, 8132, 1217, 1945, 6787]\n",
      "89 [1172, 50, 527, 593, 1197, 2318, 858, 903, 913, 1136]\n",
      "90 [318, 858, 905, 926, 1945, 969, 7502, 3462, 922, 50]\n",
      "91 [858, 7502, 1221, 905, 8132, 1217, 1939, 926, 3030, 969]\n",
      "92 [858, 3462, 1939, 1221, 6016, 913, 926, 7502, 1252, 905]\n",
      "93 [318, 905, 7502, 1939, 969, 926, 1945, 8132, 3462, 1217]\n",
      "94 [7502, 905, 969, 1945, 3462, 1217, 1939, 2318, 926, 5114]\n",
      "95 [858, 318, 926, 1945, 905, 969, 7502, 1147, 1221, 1939]\n",
      "96 [8132, 858, 1939, 899, 3462, 2064, 1217, 7502, 3088, 6787]\n",
      "97 [3462, 1230, 73290, 5114, 1172, 6787, 969, 3088, 8132, 1147]\n",
      "98 [318, 858, 7502, 926, 1147, 1217, 1254, 3030, 3462, 905]\n",
      "99 [3462, 858, 1939, 926, 905, 1252, 1147, 3035, 8132, 3088]\n",
      "100 [318, 926, 8132, 3035, 1945, 858, 3462, 1948, 969, 1147]\n",
      "101 [858, 905, 7502, 8132, 969, 926, 2064, 1939, 1221, 1945]\n",
      "102 [1948, 8132, 6787, 3310, 3035, 7502, 6016, 73290, 5114, 3030]\n",
      "103 [318, 858, 1217, 7502, 3462, 926, 3030, 1178, 2064, 3310]\n",
      "104 [7502, 858, 969, 905, 926, 1945, 1939, 8132, 3462, 3035]\n",
      "105 [905, 926, 7502, 969, 1945, 3462, 8132, 1217, 1939, 1228]\n",
      "106 [969, 1945, 905, 926, 3469, 2318, 8132, 318, 7502, 3035]\n",
      "107 [858, 7502, 318, 905, 3462, 1221, 6787, 969, 913, 1299]\n",
      "108 [969, 3035, 1948, 926, 1939, 318, 3462, 905, 2064, 8132]\n",
      "109 [858, 8132, 905, 3462, 3088, 7502, 1939, 1221, 926, 899]\n",
      "110 [1172, 50, 2318, 858, 913, 1230, 2064, 5995, 1276, 4226]\n",
      "111 [858, 926, 7502, 969, 1217, 1221, 905, 2064, 3035, 8132]\n",
      "112 [969, 905, 318, 1945, 926, 858, 8132, 1939, 3035, 899]\n",
      "113 [1029, 1172, 1263, 1287, 1293, 1343, 1953, 3671, 17, 47]\n",
      "114 [318, 905, 858, 7502, 1228, 969, 926, 1147, 1945, 2318]\n",
      "115 [905, 1147, 3462, 1217, 8132, 7502, 969, 858, 926, 1945]\n",
      "116 [926, 905, 1945, 1172, 969, 1217, 8132, 858, 3683, 3462]\n",
      "117 [969, 3462, 1945, 3035, 905, 858, 926, 1147, 1217, 8132]\n",
      "118 [858, 926, 318, 1939, 7502, 969, 3035, 8132, 912, 1945]\n",
      "119 [3462, 1228, 905, 1945, 8132, 7502, 3469, 2318, 1147, 1939]\n",
      "120 [318, 858, 926, 2318, 905, 8132, 7502, 969, 1217, 3462]\n",
      "121 [858, 905, 969, 926, 8132, 1221, 7502, 1939, 1945, 3462]\n",
      "122 [858, 926, 905, 8132, 1221, 3462, 1217, 7502, 969, 922]\n",
      "123 [3462, 318, 7502, 8132, 1217, 905, 1254, 2064, 2690, 1203]\n",
      "124 [905, 969, 858, 1948, 7502, 926, 1228, 1221, 1945, 1939]\n",
      "125 [7502, 905, 3462, 8132, 1939, 1945, 2318, 3683, 926, 1217]\n",
      "126 [858, 905, 926, 3462, 1221, 7502, 1939, 969, 1217, 1147]\n",
      "127 [527, 318, 2318, 858, 1221, 7502, 926, 1147, 1217, 1228]\n",
      "128 [905, 7502, 8132, 926, 318, 858, 3030, 1221, 306, 994]\n",
      "129 [858, 318, 1945, 8132, 1221, 7502, 926, 1939, 904, 3035]\n",
      "130 [969, 926, 7502, 1948, 905, 8132, 1945, 3462, 2064, 1939]\n",
      "131 [318, 858, 7502, 3462, 1939, 3035, 969, 905, 8132, 2064]\n",
      "132 [926, 318, 7502, 905, 858, 969, 1945, 3462, 8132, 3088]\n",
      "133 [3088, 1939, 899, 2924, 905, 969, 7502, 1217, 3030, 7669]\n",
      "134 [969, 926, 905, 3462, 1945, 8132, 3035, 899, 2064, 922]\n",
      "135 [318, 858, 3030, 1948, 969, 905, 1217, 296, 50, 926]\n",
      "136 [905, 8132, 969, 858, 7502, 1217, 926, 1945, 3462, 3035]\n",
      "137 [905, 969, 858, 318, 1172, 7502, 926, 3469, 1217, 2924]\n",
      "138 [926, 8132, 111, 969, 2064, 905, 1945, 1228, 608, 908]\n",
      "139 [3462, 3035, 905, 858, 1939, 1945, 1948, 969, 8132, 2064]\n",
      "140 [8132, 1945, 905, 3035, 913, 926, 969, 3462, 2064, 858]\n",
      "141 [858, 926, 1221, 922, 8132, 3462, 969, 1945, 2318, 1217]\n",
      "142 [318, 1939, 858, 3462, 7502, 905, 1948, 3088, 8132, 926]\n",
      "143 [7502, 1217, 905, 858, 969, 1212, 3462, 8132, 1172, 1939]\n",
      "144 [318, 858, 926, 2064, 8132, 3462, 1217, 905, 1939, 969]\n",
      "145 [1172, 1293, 1953, 50, 515, 527, 318, 1197, 2318, 2762]\n",
      "146 [858, 926, 905, 969, 7502, 8132, 2318, 1945, 1221, 3462]\n",
      "147 [8132, 318, 905, 858, 3462, 2064, 1945, 926, 3035, 1939]\n",
      "148 [858, 1939, 318, 905, 926, 969, 1217, 1221, 7502, 1948]\n",
      "149 [8132, 905, 926, 858, 1945, 969, 1147, 7502, 1948, 922]\n",
      "150 [1217, 969, 926, 7502, 905, 8132, 3462, 994, 1172, 2064]\n",
      "151 [905, 926, 969, 3088, 318, 1948, 1172, 8132, 858, 899]\n",
      "152 [905, 926, 8132, 858, 994, 3030, 1945, 969, 2064, 1217]\n",
      "153 [926, 905, 858, 969, 1945, 8132, 318, 913, 3462, 904]\n",
      "154 [858, 926, 3462, 318, 1939, 905, 1217, 1945, 969, 7502]\n",
      "155 [858, 1221, 318, 905, 926, 1939, 1945, 969, 7502, 1228]\n",
      "156 [858, 3462, 905, 1147, 318, 7502, 926, 1939, 608, 1060]\n",
      "157 [858, 1939, 318, 1221, 1945, 3462, 926, 7502, 969, 905]\n",
      "158 [7502, 1217, 8132, 905, 969, 318, 3030, 3035, 1945, 1939]\n",
      "159 [8132, 3462, 1939, 7502, 3035, 926, 2064, 1945, 905, 994]\n",
      "160 [969, 926, 1948, 1945, 5114, 905, 3462, 3088, 1217, 1939]\n",
      "161 [969, 905, 1939, 926, 858, 3462, 1217, 7502, 3088, 1945]\n",
      "162 [858, 318, 3462, 926, 7502, 1939, 905, 1172, 994, 1221]\n",
      "163 [7502, 3462, 905, 1939, 926, 8132, 6787, 1252, 1945, 3088]\n",
      "164 [969, 858, 926, 905, 1945, 3462, 8132, 7502, 1217, 1228]\n",
      "165 [7502, 858, 1217, 1221, 2973, 2318, 926, 905, 105504, 969]\n",
      "166 [969, 926, 905, 858, 318, 5114, 7502, 1945, 3462, 898]\n",
      "167 [3462, 858, 318, 905, 1147, 1945, 8132, 3469, 1172, 1948]\n",
      "168 [858, 1939, 926, 3462, 1221, 905, 7502, 3310, 1945, 898]\n",
      "169 [8132, 905, 858, 1172, 926, 3462, 318, 913, 7502, 1217]\n",
      "170 [858, 926, 1945, 318, 7502, 1228, 1221, 1948, 969, 905]\n",
      "171 [858, 7502, 318, 926, 3462, 2064, 905, 913, 3035, 1939]\n",
      "172 [1948, 969, 926, 905, 1945, 858, 1228, 1939, 3088, 3462]\n",
      "173 [858, 318, 8132, 969, 3462, 926, 2318, 905, 3035, 1945]\n",
      "174 [7502, 318, 926, 905, 858, 1945, 8132, 969, 1217, 1228]\n",
      "175 [858, 318, 3462, 905, 1939, 7502, 926, 969, 1221, 1945]\n",
      "176 [1939, 858, 1217, 7502, 8132, 318, 3462, 1221, 905, 969]\n",
      "177 [318, 926, 905, 1945, 969, 858, 7502, 3462, 3035, 899]\n",
      "178 [8132, 905, 969, 926, 1945, 1217, 3462, 7502, 1948, 904]\n",
      "179 [3462, 7502, 858, 318, 926, 1217, 1945, 1939, 969, 905]\n",
      "180 [858, 926, 905, 318, 8132, 3462, 7502, 1939, 1221, 1948]\n",
      "181 [318, 858, 926, 3462, 905, 8132, 7502, 1217, 969, 899]\n",
      "182 [969, 8132, 905, 318, 2064, 306, 926, 3462, 3022, 858]\n",
      "183 [1945, 3035, 1939, 7502, 858, 969, 926, 2064, 1217, 5114]\n",
      "184 [905, 858, 926, 969, 3462, 7502, 2064, 1217, 1939, 8132]\n",
      "185 [905, 7502, 1217, 3030, 8132, 994, 926, 858, 1254, 969]\n",
      "186 [8132, 318, 926, 3035, 1945, 905, 922, 969, 2318, 2064]\n",
      "187 [2318, 858, 7502, 1945, 3035, 969, 1252, 8132, 905, 56782]\n",
      "188 [858, 969, 3462, 905, 1945, 3035, 926, 1217, 2318, 7502]\n",
      "189 [7502, 8132, 3462, 318, 858, 905, 7802, 735, 3035, 2973]\n",
      "190 [7502, 858, 318, 1221, 905, 969, 8132, 1945, 1939, 926]\n",
      "191 [905, 926, 858, 969, 7502, 3462, 1217, 8132, 1172, 1945]\n",
      "192 [858, 3462, 969, 905, 1217, 926, 7502, 2318, 8132, 1948]\n",
      "193 [7502, 969, 905, 1945, 8132, 926, 1228, 3462, 1939, 1217]\n",
      "194 [858, 969, 905, 318, 7502, 926, 1945, 1939, 1221, 3462]\n",
      "195 [1939, 8132, 926, 1945, 7502, 6016, 1147, 2318, 6787, 3310]\n",
      "196 [2064, 926, 8132, 318, 905, 858, 3030, 1945, 1217, 7502]\n",
      "197 [8132, 905, 318, 994, 926, 1939, 969, 899, 1212, 3035]\n",
      "198 [8132, 969, 1939, 3462, 318, 3035, 905, 898, 1945, 6787]\n",
      "199 [905, 969, 926, 1945, 8132, 1217, 7502, 922, 1147, 3462]\n",
      "200 [858, 905, 926, 969, 3469, 318, 1228, 1172, 1945, 912]\n",
      "201 [905, 858, 969, 1948, 926, 1221, 3469, 3462, 3030, 1172]\n",
      "202 [3462, 2064, 1217, 5114, 8132, 3035, 858, 1939, 926, 2318]\n",
      "203 [905, 969, 1217, 8132, 1939, 1948, 1147, 1945, 926, 994]\n",
      "204 [318, 905, 1147, 858, 1945, 8132, 1228, 3462, 2064, 912]\n",
      "205 [3462, 8132, 3088, 318, 3030, 1948, 1254, 913, 7502, 3035]\n",
      "206 [858, 926, 905, 318, 3462, 969, 1217, 7502, 1228, 1939]\n",
      "207 [905, 898, 969, 105504, 116, 26729, 1217, 926, 98491, 735]\n",
      "208 [1939, 318, 969, 3462, 905, 8132, 926, 1217, 858, 1945]\n",
      "209 [969, 318, 858, 1228, 905, 8132, 1945, 926, 2064, 1948]\n",
      "210 [3462, 1948, 1939, 969, 905, 858, 318, 1217, 3088, 1172]\n",
      "211 [318, 858, 7502, 1221, 8132, 3462, 905, 1939, 1948, 926]\n",
      "212 [7502, 905, 969, 1939, 926, 3462, 1217, 1945, 1948, 2064]\n",
      "213 [905, 969, 318, 1945, 926, 7502, 3088, 8132, 3462, 1172]\n",
      "214 [1939, 7502, 3462, 905, 8132, 1217, 913, 3035, 969, 926]\n",
      "215 [1945, 926, 3462, 3035, 318, 905, 1217, 1939, 7502, 1147]\n",
      "216 [7502, 858, 905, 926, 969, 8132, 1939, 1945, 3462, 1221]\n",
      "217 [318, 926, 994, 8132, 1228, 7502, 2064, 905, 1203, 745]\n",
      "218 [858, 905, 969, 50, 926, 1939, 3030, 3462, 1945, 1221]\n",
      "219 [969, 2318, 1948, 3030, 3469, 56782, 926, 1945, 306, 905]\n",
      "220 [318, 926, 7502, 994, 969, 2064, 1939, 905, 1948, 1217]\n",
      "221 [858, 318, 7502, 1939, 3462, 926, 1221, 3088, 905, 1945]\n",
      "222 [8132, 905, 1217, 969, 318, 3035, 858, 1945, 926, 922]\n",
      "223 [7502, 905, 969, 1945, 926, 1217, 318, 858, 2064, 3030]\n",
      "224 [858, 318, 905, 7502, 969, 926, 1939, 1945, 1217, 3462]\n",
      "225 [318, 926, 969, 905, 1948, 8132, 3462, 3088, 2064, 3035]\n",
      "226 [905, 1228, 858, 1948, 1945, 1147, 8132, 926, 111, 50]\n",
      "227 [858, 7802, 904, 8132, 318, 2973, 1221, 926, 3022, 969]\n",
      "228 [858, 318, 3310, 2318, 926, 3035, 1221, 3469, 1948, 3462]\n",
      "229 [318, 969, 905, 926, 1945, 3462, 8132, 1948, 1217, 1939]\n",
      "230 [858, 905, 969, 8132, 3462, 926, 7502, 1945, 1221, 1939]\n",
      "231 [969, 905, 318, 926, 7502, 3462, 1217, 858, 3088, 1945]\n",
      "232 [7502, 318, 2318, 8132, 3462, 3030, 1945, 2924, 2690, 3730]\n",
      "233 [7502, 926, 858, 318, 905, 969, 3088, 3462, 1172, 1948]\n",
      "234 [318, 926, 1945, 905, 969, 858, 898, 8132, 2064, 7502]\n",
      "235 [926, 969, 1948, 3462, 905, 1945, 1147, 858, 3088, 3030]\n",
      "236 [8132, 318, 858, 3035, 905, 1147, 2064, 1948, 1939, 2318]\n",
      "237 [926, 905, 1939, 858, 1945, 1948, 3730, 50, 969, 8132]\n",
      "238 [3462, 926, 858, 905, 1945, 969, 7502, 1948, 1939, 899]\n",
      "239 [905, 318, 926, 969, 8132, 858, 1948, 7502, 3462, 1945]\n",
      "240 [858, 926, 8132, 3462, 969, 1945, 1939, 7502, 1217, 1948]\n",
      "241 [926, 8132, 858, 3462, 7502, 1945, 2064, 1948, 3088, 905]\n",
      "242 [1172, 2318, 2064, 7502, 922, 1147, 1217, 1228, 3462, 3683]\n",
      "243 [858, 318, 926, 7502, 1939, 1221, 969, 905, 3462, 994]\n",
      "244 [3030, 905, 1172, 858, 56782, 1221, 1217, 994, 1147, 1252]\n",
      "245 [969, 905, 1939, 1217, 7502, 318, 86882, 926, 922, 1945]\n",
      "246 [858, 3462, 926, 318, 1939, 969, 7502, 905, 1945, 3469]\n",
      "247 [858, 318, 905, 969, 7502, 926, 1217, 1945, 3462, 8132]\n",
      "248 [858, 926, 905, 318, 3462, 969, 2064, 1939, 2318, 7502]\n",
      "249 [858, 1221, 318, 926, 969, 8132, 1945, 7502, 1217, 905]\n",
      "250 [905, 926, 969, 1945, 1939, 7502, 1217, 3462, 8132, 2064]\n",
      "251 [8132, 318, 3462, 905, 1948, 1945, 926, 858, 969, 1147]\n",
      "252 [905, 8132, 318, 926, 912, 969, 3462, 2064, 1217, 1939]\n",
      "253 [905, 7502, 3462, 8132, 1217, 2318, 926, 1939, 1147, 1252]\n",
      "254 [8132, 905, 3035, 3462, 858, 1217, 969, 926, 1939, 2318]\n",
      "255 [858, 318, 1939, 926, 1221, 3462, 1945, 969, 905, 3035]\n",
      "256 [858, 1939, 926, 1945, 969, 318, 3035, 8132, 905, 1221]\n",
      "257 [2064, 926, 3310, 1361, 750, 3088, 1254, 3362, 994, 50]\n",
      "258 [858, 926, 905, 7502, 969, 1945, 318, 1939, 3683, 1228]\n",
      "259 [8132, 3462, 1945, 3035, 858, 1217, 1939, 905, 318, 926]\n",
      "260 [858, 926, 905, 969, 318, 1228, 2064, 1939, 913, 1945]\n",
      "261 [3030, 8132, 969, 905, 7502, 1945, 2318, 3088, 2203, 306]\n",
      "262 [926, 1945, 905, 1939, 969, 3462, 1948, 8132, 3088, 913]\n",
      "263 [8132, 3035, 858, 1945, 3462, 7502, 905, 926, 1217, 1948]\n",
      "264 [3030, 318, 3462, 905, 926, 50, 1945, 7502, 3730, 2318]\n",
      "265 [318, 7502, 926, 1939, 1221, 3088, 905, 1147, 1172, 994]\n",
      "266 [858, 7502, 1945, 3462, 926, 1939, 1948, 969, 2318, 3035]\n",
      "267 [7502, 858, 905, 969, 926, 1217, 1945, 8132, 1221, 1172]\n",
      "268 [7502, 1939, 3462, 1945, 8132, 1217, 1221, 926, 3683, 3035]\n",
      "269 [7502, 858, 926, 905, 1221, 1945, 1939, 969, 318, 1172]\n",
      "270 [858, 318, 3462, 926, 905, 7502, 8132, 1945, 1939, 1217]\n",
      "271 [858, 7502, 905, 926, 1221, 1217, 1939, 3462, 3035, 1945]\n",
      "272 [905, 7502, 318, 3462, 8132, 969, 3030, 1217, 858, 1147]\n",
      "273 [858, 318, 905, 926, 1221, 1939, 7502, 3462, 1945, 969]\n",
      "274 [858, 7502, 969, 926, 318, 1221, 1217, 905, 1172, 1939]\n",
      "275 [318, 905, 7502, 926, 1945, 969, 1217, 1228, 2318, 3462]\n",
      "276 [905, 1939, 318, 858, 1172, 7502, 1217, 1945, 969, 926]\n",
      "277 [1939, 969, 905, 7502, 926, 1217, 6787, 8132, 2064, 1945]\n",
      "278 [905, 858, 1221, 969, 318, 8132, 1948, 7502, 926, 1945]\n",
      "279 [858, 926, 969, 905, 3462, 1939, 1228, 7502, 1945, 3035]\n",
      "280 [318, 1945, 969, 905, 926, 3035, 7502, 2318, 1948, 3462]\n",
      "281 [318, 8132, 905, 926, 7502, 3462, 2064, 1228, 50, 1939]\n",
      "282 [1217, 905, 926, 3035, 858, 3462, 922, 969, 8132, 1203]\n",
      "283 [905, 858, 7502, 8132, 3462, 969, 1217, 3030, 2318, 1945]\n",
      "284 [926, 858, 1939, 1945, 3462, 969, 7502, 2064, 318, 905]\n",
      "285 [905, 318, 926, 7502, 1228, 898, 969, 994, 8132, 1212]\n",
      "286 [926, 858, 969, 318, 1945, 905, 3462, 1228, 3469, 3310]\n",
      "287 [1172, 1293, 1953, 50, 296, 515, 527, 593, 318, 2318]\n",
      "288 [1948, 969, 7502, 318, 1217, 3088, 994, 905, 1254, 926]\n",
      "289 [1172, 858, 7502, 318, 3462, 905, 8132, 3030, 1217, 926]\n",
      "290 [318, 2318, 913, 2064, 7502, 899, 904, 922, 926, 1147]\n",
      "291 [858, 7502, 926, 969, 905, 1945, 8132, 1221, 50, 1228]\n",
      "292 [905, 926, 969, 1945, 3462, 1939, 8132, 7502, 2064, 1217]\n",
      "293 [3462, 926, 1254, 3030, 1948, 318, 3088, 1945, 116, 50]\n",
      "294 [905, 8132, 858, 1945, 1217, 7502, 2064, 1948, 1228, 3030]\n",
      "295 [926, 905, 7502, 969, 1217, 1945, 1221, 1939, 3462, 1228]\n",
      "296 [8132, 905, 7502, 858, 318, 3030, 1221, 2064, 56782, 3462]\n",
      "297 [905, 969, 1939, 318, 1147, 926, 1945, 922, 899, 3035]\n",
      "298 [1172, 50, 296, 515, 527, 593, 1197, 2318, 2858, 2959]\n",
      "299 [858, 318, 926, 905, 8132, 1945, 969, 1948, 7502, 3462]\n",
      "300 [969, 318, 905, 8132, 926, 1948, 1945, 1939, 2064, 858]\n",
      "301 [3035, 318, 7502, 926, 969, 899, 2318, 1945, 3462, 1147]\n",
      "302 [318, 7502, 858, 926, 905, 1939, 3462, 1217, 2064, 969]\n",
      "303 [926, 905, 3462, 8132, 969, 1939, 1945, 7502, 2064, 922]\n",
      "304 [1945, 7502, 858, 969, 899, 926, 905, 1939, 8132, 3088]\n",
      "305 [8132, 3035, 858, 1217, 1939, 3462, 969, 2064, 905, 1948]\n",
      "306 [926, 905, 8132, 3462, 969, 1939, 1948, 7502, 1228, 1945]\n",
      "307 [1221, 1939, 926, 905, 7502, 3462, 969, 3088, 1217, 6787]\n",
      "308 [1945, 926, 318, 7502, 858, 969, 3035, 3462, 1147, 905]\n",
      "309 [1939, 905, 926, 8132, 969, 3035, 1217, 3462, 7502, 994]\n",
      "310 [8132, 318, 905, 3035, 858, 1147, 1945, 50, 6787, 3030]\n",
      "311 [858, 8132, 3462, 1217, 7502, 1939, 2318, 3088, 1221, 1228]\n",
      "312 [1945, 1939, 1252, 3035, 1254, 912, 1147, 2064, 3462, 2318]\n",
      "313 [926, 858, 905, 969, 1948, 8132, 3035, 1172, 3462, 1228]\n",
      "314 [7502, 8132, 905, 858, 1217, 926, 969, 3462, 1945, 1939]\n",
      "315 [969, 5114, 3469, 1945, 1217, 905, 8132, 3088, 899, 926]\n",
      "316 [318, 905, 926, 858, 1945, 1217, 969, 3462, 8132, 1939]\n",
      "317 [905, 8132, 969, 1945, 1948, 3462, 926, 922, 86882, 1172]\n",
      "318 [1945, 5114, 1217, 926, 8132, 969, 1948, 3462, 905, 3088]\n",
      "319 [1939, 3462, 858, 1217, 969, 926, 318, 3035, 1948, 905]\n",
      "320 [8132, 858, 905, 926, 3035, 7502, 969, 3030, 1945, 1147]\n",
      "321 [7502, 318, 8132, 858, 905, 1945, 926, 3462, 1939, 3035]\n",
      "322 [318, 858, 913, 926, 3462, 1254, 8132, 50, 2064, 905]\n",
      "323 [926, 969, 3462, 905, 1939, 1945, 50, 3035, 2064, 2318]\n",
      "324 [926, 905, 3462, 858, 8132, 969, 1945, 3035, 2318, 1948]\n",
      "325 [318, 3462, 8132, 7502, 858, 926, 899, 1147, 905, 1945]\n",
      "326 [7502, 8132, 3462, 318, 905, 1945, 735, 1217, 5114, 926]\n",
      "327 [318, 8132, 3462, 858, 926, 1948, 905, 1945, 969, 899]\n",
      "328 [858, 905, 969, 8132, 7502, 1939, 3462, 926, 1217, 1221]\n",
      "329 [926, 905, 858, 7502, 969, 3462, 1945, 318, 1228, 5114]\n",
      "330 [905, 969, 8132, 1228, 2318, 306, 7502, 912, 3030, 2064]\n",
      "331 [858, 318, 7502, 3462, 926, 1217, 1221, 1939, 1945, 905]\n",
      "332 [969, 858, 926, 318, 1196, 1228, 3310, 1945, 1172, 7502]\n",
      "333 [905, 969, 926, 8132, 1945, 1948, 1217, 7502, 3462, 2318]\n",
      "334 [905, 926, 7502, 1221, 969, 8132, 1939, 3469, 1228, 1147]\n",
      "335 [7502, 318, 1221, 1939, 3462, 926, 527, 8132, 905, 1945]\n",
      "336 [969, 8132, 858, 905, 318, 2318, 1945, 3469, 3462, 1948]\n",
      "337 [858, 969, 318, 306, 1221, 905, 1217, 926, 1939, 7502]\n",
      "338 [858, 7502, 1939, 1217, 926, 969, 905, 1221, 3462, 1945]\n",
      "339 [969, 8132, 1945, 905, 6787, 1939, 2064, 3035, 926, 1948]\n",
      "340 [926, 905, 969, 1948, 1228, 1945, 50, 1939, 3469, 2318]\n",
      "341 [858, 318, 1939, 7502, 3462, 926, 1221, 3035, 969, 2318]\n",
      "342 [3462, 1939, 3035, 926, 8132, 905, 913, 1945, 1948, 6016]\n",
      "343 [1221, 318, 1939, 926, 969, 6787, 905, 1948, 3469, 3310]\n",
      "344 [858, 926, 969, 1221, 1939, 1948, 905, 7502, 3088, 1945]\n",
      "345 [1939, 8132, 1221, 905, 7502, 926, 3462, 913, 912, 1299]\n",
      "346 [1172, 3469, 969, 73290, 905, 2318, 1217, 7419, 1952, 926]\n",
      "347 [8132, 905, 1945, 3035, 318, 1147, 926, 3462, 899, 1172]\n",
      "348 [912, 3469, 1228, 608, 908, 905, 2064, 926, 1945, 7063]\n",
      "349 [858, 8132, 905, 318, 1945, 3035, 1939, 926, 6787, 1147]\n",
      "350 [3462, 1945, 905, 2064, 8132, 926, 3030, 2318, 3035, 1147]\n",
      "351 [905, 926, 318, 1945, 1147, 3683, 1172, 3462, 1939, 3035]\n",
      "352 [905, 858, 926, 8132, 969, 1939, 3462, 7502, 1945, 2064]\n",
      "353 [905, 1939, 969, 7502, 926, 1217, 3462, 1221, 3035, 50]\n",
      "354 [905, 8132, 858, 1217, 926, 3462, 913, 1939, 1945, 994]\n",
      "355 [905, 7502, 926, 1945, 969, 1228, 1147, 994, 898, 1939]\n",
      "356 [905, 969, 926, 922, 2064, 318, 1217, 8132, 77658, 2917]\n",
      "357 [1172, 50, 318, 2318, 858, 2064, 1221, 111, 7502, 908]\n",
      "358 [1252, 750, 6016, 3310, 2019, 1948, 3088, 86882, 2997, 903]\n",
      "359 [905, 3462, 8132, 1172, 926, 3469, 969, 1228, 913, 1147]\n",
      "360 [858, 318, 1939, 7502, 926, 3462, 905, 1221, 969, 1948]\n",
      "361 [905, 1172, 969, 1217, 1212, 926, 318, 8132, 994, 1939]\n",
      "362 [8132, 905, 3462, 969, 7502, 926, 1948, 1945, 1147, 3030]\n",
      "363 [858, 3462, 318, 1252, 1939, 1276, 898, 1221, 912, 1193]\n",
      "364 [390, 3462, 5114, 858, 1939, 7502, 5995, 735, 1207, 1197]\n",
      "365 [318, 8132, 905, 3462, 858, 926, 969, 1217, 922, 1147]\n",
      "366 [858, 1221, 318, 1939, 7502, 905, 745, 2318, 926, 1217]\n",
      "367 [858, 905, 926, 1948, 1172, 1228, 7502, 1221, 318, 1945]\n",
      "368 [905, 318, 8132, 7502, 3035, 858, 3030, 969, 1217, 926]\n",
      "369 [858, 8132, 3462, 1948, 1939, 1221, 905, 969, 1945, 926]\n",
      "370 [3462, 905, 858, 1217, 1939, 926, 7502, 8132, 969, 1945]\n",
      "371 [8132, 3035, 2318, 3462, 3469, 1147, 926, 858, 1252, 1945]\n",
      "372 [318, 858, 1948, 926, 8132, 1945, 1228, 3730, 994, 3462]\n",
      "373 [3462, 926, 905, 7502, 1948, 1939, 969, 898, 8132, 1945]\n",
      "374 [905, 926, 898, 1948, 913, 50, 318, 969, 858, 3088]\n",
      "375 [905, 926, 969, 1172, 318, 922, 1217, 1945, 1948, 1228]\n",
      "376 [1939, 7502, 3462, 8132, 6787, 905, 1252, 899, 50, 969]\n",
      "377 [969, 905, 318, 306, 8132, 858, 6787, 3030, 1945, 1948]\n",
      "378 [899, 926, 6787, 1252, 3088, 3310, 1945, 2019, 6016, 2064]\n",
      "379 [858, 905, 8132, 7502, 969, 926, 1221, 1945, 3030, 1228]\n",
      "380 [3462, 905, 1939, 926, 1217, 8132, 2318, 1945, 527, 969]\n",
      "381 [1945, 926, 8132, 3035, 318, 905, 898, 904, 116, 969]\n",
      "382 [926, 1939, 1172, 1945, 858, 3035, 969, 1948, 994, 913]\n",
      "383 [858, 905, 318, 969, 3462, 926, 1948, 1228, 7502, 922]\n",
      "384 [7502, 905, 969, 318, 926, 858, 1945, 3462, 1939, 1217]\n",
      "385 [858, 905, 926, 1945, 2064, 913, 1147, 969, 1939, 1228]\n",
      "386 [858, 3462, 318, 969, 926, 905, 1939, 8132, 7502, 1217]\n",
      "387 [2064, 8132, 1147, 1948, 50, 922, 1252, 1217, 994, 7502]\n",
      "388 [1939, 926, 7502, 3310, 3462, 905, 1945, 969, 2064, 994]\n",
      "389 [3035, 905, 858, 969, 1945, 926, 1147, 7502, 8132, 1252]\n",
      "390 [905, 969, 926, 3462, 1945, 318, 1939, 116, 898, 8132]\n",
      "391 [1948, 1945, 858, 1147, 926, 913, 6787, 905, 1939, 1221]\n",
      "392 [858, 7502, 318, 8132, 1217, 905, 969, 1945, 3462, 1939]\n",
      "393 [858, 5114, 926, 6787, 969, 318, 1945, 1939, 1217, 2064]\n",
      "394 [1254, 32898, 1172, 3035, 2064, 1945, 1147, 26729, 2924, 5114]\n",
      "395 [318, 858, 1939, 1945, 926, 50, 898, 6787, 994, 3035]\n",
      "396 [905, 969, 1217, 858, 318, 926, 1945, 1939, 3462, 3035]\n",
      "397 [858, 905, 1939, 318, 969, 1221, 3462, 926, 7502, 1217]\n",
      "398 [969, 1945, 318, 926, 3462, 1948, 1172, 905, 3035, 1147]\n",
      "399 [3462, 926, 8132, 5114, 2064, 1254, 3088, 1948, 1945, 1939]\n",
      "400 [858, 7502, 3462, 926, 1939, 1945, 905, 3310, 2318, 1221]\n",
      "401 [1172, 50, 527, 318, 2318, 858, 913, 2064, 1193, 1247]\n",
      "402 [8132, 905, 318, 969, 926, 3462, 1945, 7502, 1948, 3088]\n",
      "403 [8132, 858, 318, 905, 7502, 1147, 994, 1945, 1228, 527]\n",
      "404 [1945, 969, 318, 2064, 905, 7502, 926, 3035, 1939, 1217]\n",
      "405 [926, 3462, 1945, 1939, 318, 1948, 1172, 2064, 3310, 3035]\n",
      "406 [8132, 1945, 1948, 318, 905, 969, 1217, 926, 1147, 1939]\n",
      "407 [858, 3462, 8132, 926, 905, 1939, 7502, 913, 912, 1228]\n",
      "408 [3030, 2924, 3983, 905, 926, 56782, 3088, 318, 4427, 104913]\n",
      "409 [969, 926, 858, 905, 2064, 7502, 3462, 8132, 5114, 1945]\n",
      "410 [969, 8132, 1217, 905, 3683, 2973, 1948, 1939, 7502, 1945]\n",
      "411 [926, 7502, 1147, 905, 1217, 1228, 922, 1945, 3462, 8132]\n",
      "412 [905, 3035, 1945, 8132, 735, 7502, 969, 1147, 1217, 3038]\n",
      "413 [905, 318, 1217, 969, 858, 1945, 3030, 3469, 8132, 922]\n",
      "414 [858, 1939, 318, 905, 8132, 1945, 1252, 1948, 3462, 926]\n",
      "415 [905, 969, 926, 8132, 318, 3030, 1945, 1172, 1948, 1217]\n",
      "416 [7502, 858, 318, 905, 926, 8132, 3462, 969, 1217, 1945]\n",
      "417 [318, 1217, 858, 1945, 1939, 969, 905, 7502, 1254, 8132]\n",
      "418 [1948, 318, 969, 905, 1945, 8132, 1147, 1228, 3462, 926]\n",
      "419 [969, 318, 905, 926, 3462, 1939, 1948, 1945, 899, 8132]\n",
      "420 [858, 7502, 318, 905, 1939, 969, 1221, 926, 1945, 2064]\n",
      "421 [7502, 8132, 1939, 858, 905, 994, 3088, 1217, 3462, 969]\n",
      "422 [1945, 8132, 1939, 905, 7502, 3462, 926, 1217, 3088, 913]\n",
      "423 [1939, 905, 1945, 8132, 926, 7502, 6787, 994, 50, 969]\n",
      "424 [1939, 926, 318, 969, 905, 858, 1945, 3683, 3088, 1221]\n",
      "425 [8132, 3462, 926, 1221, 1948, 1939, 3035, 913, 1228, 905]\n",
      "426 [905, 7502, 926, 3462, 1939, 3088, 1945, 969, 1217, 1228]\n",
      "427 [858, 926, 318, 8132, 1945, 905, 2318, 969, 3469, 1228]\n",
      "428 [318, 7502, 233, 1939, 905, 908, 527, 8132, 2318, 720]\n",
      "429 [3035, 318, 858, 3462, 1939, 1945, 926, 1147, 994, 3469]\n",
      "430 [926, 3310, 969, 3462, 3030, 7502, 905, 1939, 1945, 1221]\n",
      "431 [858, 3462, 1939, 905, 1948, 7502, 926, 6016, 969, 2064]\n",
      "432 [7502, 969, 1945, 1217, 905, 8132, 1228, 1178, 1948, 3683]\n",
      "433 [926, 1221, 1939, 905, 913, 1228, 1945, 922, 3462, 969]\n",
      "434 [8132, 926, 905, 3462, 899, 3030, 3035, 1939, 6016, 1945]\n",
      "435 [858, 926, 318, 969, 3469, 905, 1939, 1228, 7502, 1172]\n",
      "436 [858, 899, 8132, 926, 905, 318, 3462, 1221, 6787, 969]\n",
      "437 [858, 318, 7502, 926, 3462, 1221, 2064, 1939, 905, 912]\n",
      "438 [969, 858, 926, 905, 3462, 1945, 1948, 2064, 3683, 898]\n",
      "439 [1939, 905, 1945, 969, 7502, 1948, 8132, 913, 1252, 26587]\n",
      "440 [1945, 858, 8132, 905, 926, 3462, 969, 2318, 1147, 3035]\n",
      "441 [8132, 905, 3462, 1939, 1221, 7502, 926, 3088, 1217, 969]\n",
      "442 [905, 926, 969, 7502, 3462, 1945, 3035, 8132, 1217, 1939]\n",
      "443 [1172, 50, 296, 527, 2318, 2858, 2959, 858, 903, 913]\n",
      "444 [858, 1939, 318, 3462, 913, 50, 8132, 6016, 1221, 527]\n",
      "445 [7502, 858, 969, 905, 1221, 926, 3310, 2318, 1945, 1217]\n",
      "446 [50, 527, 2318, 858, 913, 2064, 1221, 1276, 2019, 4226]\n",
      "447 [905, 858, 969, 8132, 7502, 1939, 1945, 1221, 926, 1948]\n",
      "448 [318, 858, 1221, 7502, 926, 1228, 1945, 3462, 898, 969]\n",
      "449 [858, 926, 969, 8132, 1948, 905, 3462, 922, 1217, 1945]\n",
      "450 [1252, 1934, 926, 3462, 3310, 969, 3035, 899, 1948, 1945]\n",
      "451 [969, 745, 318, 926, 7063, 8132, 858, 3469, 1948, 1228]\n",
      "452 [905, 1939, 926, 3462, 8132, 7502, 3035, 50, 1217, 1147]\n",
      "453 [969, 318, 1217, 3462, 5114, 8132, 926, 858, 3088, 3035]\n",
      "454 [926, 1939, 969, 905, 3088, 1945, 1948, 3030, 3469, 3462]\n",
      "455 [858, 926, 318, 1945, 7502, 969, 1221, 1217, 3035, 905]\n",
      "456 [926, 318, 905, 969, 858, 7502, 2064, 3088, 1217, 3462]\n",
      "457 [3462, 1221, 8132, 1147, 1228, 1945, 3035, 926, 922, 913]\n",
      "458 [7502, 926, 905, 3462, 8132, 969, 1217, 1945, 3035, 1939]\n",
      "459 [318, 858, 7502, 926, 8132, 905, 994, 1945, 1228, 913]\n",
      "460 [858, 926, 1939, 905, 3462, 1945, 8132, 1147, 1228, 1221]\n",
      "461 [7502, 1939, 3462, 1147, 3310, 905, 2318, 1228, 3683, 1217]\n",
      "462 [318, 926, 858, 1945, 1228, 7502, 8132, 2318, 3035, 3462]\n",
      "463 [7502, 926, 1939, 905, 994, 3462, 1228, 8132, 3035, 1147]\n",
      "464 [1172, 50, 318, 2318, 858, 913, 2064, 1193, 1221, 1276]\n",
      "465 [905, 1939, 318, 7502, 1221, 2973, 8132, 926, 1172, 1228]\n",
      "466 [3462, 1939, 1252, 8132, 7502, 905, 926, 1217, 1276, 1212]\n",
      "467 [1945, 318, 969, 926, 3462, 2064, 3035, 1939, 905, 899]\n",
      "468 [7502, 8132, 969, 1147, 1217, 1948, 6016, 2318, 994, 3469]\n",
      "469 [905, 858, 1172, 926, 3469, 1939, 969, 3462, 318, 3088]\n",
      "470 [1945, 926, 3469, 858, 1939, 3035, 1217, 905, 7502, 1948]\n",
      "471 [858, 926, 905, 318, 969, 7502, 3462, 1945, 1939, 1217]\n",
      "472 [1939, 3035, 1945, 8132, 3310, 3469, 1217, 994, 7502, 5114]\n",
      "473 [318, 858, 7502, 926, 1945, 3462, 969, 905, 1948, 1178]\n",
      "474 [1939, 926, 318, 969, 905, 7502, 1945, 8132, 904, 6787]\n",
      "475 [318, 1939, 527, 905, 50, 608, 1217, 913, 2186, 1945]\n",
      "476 [905, 858, 7502, 3462, 318, 1945, 926, 1217, 1939, 8132]\n",
      "477 [7502, 969, 2973, 3462, 5114, 1217, 3683, 1178, 1945, 1212]\n",
      "478 [858, 7502, 905, 8132, 3462, 969, 1945, 1217, 926, 1939]\n",
      "479 [926, 1945, 2318, 969, 3035, 858, 3469, 8132, 3462, 2064]\n",
      "480 [969, 905, 8132, 926, 1945, 1217, 3035, 2318, 3683, 1948]\n",
      "481 [926, 1939, 905, 1945, 969, 7502, 904, 50, 913, 1217]\n",
      "482 [905, 1939, 969, 1945, 318, 1217, 926, 858, 3035, 7502]\n",
      "483 [2318, 3030, 858, 969, 905, 1948, 7502, 1252, 3730, 1147]\n",
      "484 [905, 318, 1948, 858, 3462, 926, 969, 3088, 7502, 8132]\n",
      "485 [858, 318, 926, 905, 3462, 8132, 3310, 1939, 7502, 1228]\n",
      "486 [858, 318, 926, 1172, 969, 1939, 1147, 905, 1221, 50]\n",
      "487 [858, 969, 905, 926, 1939, 1217, 8132, 7502, 1221, 1945]\n",
      "488 [926, 318, 969, 858, 1945, 1939, 905, 3462, 3035, 1217]\n",
      "489 [969, 905, 318, 1939, 913, 2064, 1945, 926, 50, 3088]\n",
      "490 [1945, 926, 969, 2064, 3462, 7502, 318, 3469, 858, 1228]\n",
      "491 [858, 1939, 318, 3462, 922, 1217, 6016, 1221, 913, 50]\n",
      "492 [318, 926, 3088, 969, 3462, 3030, 899, 73290, 905, 50]\n",
      "493 [318, 1948, 969, 8132, 86882, 3462, 3088, 3030, 1939, 1254]\n",
      "494 [905, 8132, 1945, 1939, 969, 926, 3462, 2318, 1147, 3035]\n",
      "495 [318, 905, 858, 7502, 1945, 926, 969, 1228, 3035, 8132]\n",
      "496 [858, 7502, 8132, 3462, 905, 969, 1221, 926, 1939, 1172]\n",
      "497 [8132, 318, 858, 905, 1228, 3683, 926, 994, 3469, 7502]\n",
      "498 [858, 318, 1948, 905, 969, 1221, 3462, 8132, 1939, 926]\n",
      "499 [905, 318, 1939, 1217, 3462, 969, 922, 899, 7502, 3088]\n",
      "500 [969, 905, 2318, 1217, 8132, 3462, 5114, 1945, 3035, 1939]\n",
      "501 [905, 3462, 969, 926, 7502, 1217, 1939, 1948, 8132, 3088]\n",
      "502 [3462, 8132, 1945, 2064, 905, 926, 1948, 969, 7502, 1254]\n",
      "503 [905, 318, 8132, 3462, 3035, 1172, 969, 926, 1948, 1939]\n",
      "504 [3469, 905, 926, 2064, 1945, 969, 899, 1948, 3310, 3462]\n",
      "505 [8132, 858, 1948, 2318, 1217, 3030, 7502, 1147, 3088, 2064]\n",
      "506 [318, 1939, 905, 1945, 969, 1217, 926, 8132, 922, 3462]\n",
      "507 [858, 926, 905, 1221, 7502, 1172, 1939, 3462, 318, 3088]\n",
      "508 [905, 926, 8132, 1945, 3462, 969, 3035, 858, 2064, 1147]\n",
      "509 [1939, 3462, 926, 7502, 8132, 913, 905, 3088, 3035, 898]\n",
      "510 [905, 969, 1945, 3683, 3088, 1217, 7502, 899, 926, 8132]\n",
      "511 [858, 969, 926, 7502, 1945, 1221, 3469, 905, 3683, 1948]\n",
      "512 [858, 3462, 1948, 1939, 905, 1945, 1147, 969, 50, 3088]\n",
      "513 [858, 3462, 926, 905, 1948, 969, 1945, 1939, 8132, 3088]\n",
      "514 [858, 1221, 926, 3462, 1939, 8132, 912, 905, 904, 3310]\n",
      "515 [1172, 318, 858, 926, 1217, 1228, 1945, 969, 905, 1948]\n",
      "516 [905, 858, 926, 969, 1945, 8132, 7502, 1939, 3462, 1228]\n",
      "517 [1172, 50, 296, 515, 720, 318, 1197, 2318, 2959, 7361]\n",
      "518 [969, 905, 926, 2064, 1948, 898, 3462, 3035, 3088, 922]\n",
      "519 [926, 905, 969, 8132, 1945, 3030, 1948, 1217, 3035, 3462]\n",
      "520 [1939, 7502, 6787, 3462, 6016, 3310, 926, 905, 1147, 1945]\n",
      "521 [926, 905, 1228, 969, 3462, 3469, 1939, 1945, 8132, 994]\n",
      "522 [926, 905, 318, 969, 7502, 2973, 1217, 8132, 745, 1948]\n",
      "523 [926, 905, 969, 7502, 1948, 3462, 1945, 1939, 1228, 2318]\n",
      "524 [858, 1939, 318, 926, 1945, 905, 7502, 3035, 3462, 3088]\n",
      "525 [926, 1939, 905, 318, 1945, 913, 7502, 2064, 969, 1217]\n",
      "526 [905, 926, 318, 858, 969, 1945, 3462, 1228, 1147, 7502]\n",
      "527 [1221, 8132, 318, 1945, 3035, 1939, 926, 1252, 3469, 3462]\n",
      "528 [318, 8132, 1945, 969, 1939, 905, 3462, 7502, 1948, 926]\n",
      "529 [905, 7502, 969, 8132, 3462, 1217, 1945, 1939, 2064, 913]\n",
      "530 [858, 926, 318, 3310, 3462, 1221, 1945, 912, 1939, 7502]\n",
      "531 [969, 926, 3469, 858, 1948, 3310, 1945, 2973, 1221, 922]\n",
      "532 [318, 7502, 858, 3462, 926, 1948, 905, 1217, 969, 8132]\n",
      "533 [905, 926, 8132, 858, 7502, 2973, 1948, 1217, 3462, 1172]\n",
      "534 [905, 8132, 969, 858, 7502, 926, 1217, 1172, 3462, 1945]\n",
      "535 [858, 8132, 1939, 905, 1945, 1217, 926, 899, 3462, 969]\n",
      "536 [858, 7502, 905, 3462, 3469, 1228, 926, 1221, 2318, 527]\n",
      "537 [858, 3462, 1939, 905, 1948, 1217, 1147, 1212, 1228, 3022]\n",
      "538 [858, 1939, 1945, 1221, 926, 3462, 8132, 905, 50, 898]\n",
      "539 [1939, 926, 7502, 858, 969, 5114, 3088, 6787, 905, 8132]\n",
      "540 [969, 1217, 926, 1939, 858, 2064, 5114, 1172, 3462, 3088]\n",
      "541 [858, 318, 3462, 905, 969, 926, 1217, 3035, 8132, 913]\n",
      "542 [7502, 318, 905, 1228, 527, 3469, 926, 8132, 912, 1945]\n",
      "543 [1172, 1293, 50, 296, 515, 527, 593, 318, 778, 1197]\n",
      "544 [318, 926, 1945, 969, 905, 8132, 3462, 1939, 2318, 1221]\n",
      "545 [926, 1945, 3469, 116, 1147, 3462, 858, 1948, 3037, 3035]\n",
      "546 [50, 296, 527, 2318, 7361, 858, 913, 2064, 1221, 5995]\n",
      "547 [7502, 3035, 8132, 86882, 3030, 73290, 31658, 2924, 1237, 6669]\n",
      "548 [858, 969, 926, 905, 1945, 1939, 3462, 7502, 1217, 1948]\n",
      "549 [905, 8132, 969, 926, 1228, 3462, 1945, 306, 2318, 1147]\n",
      "550 [858, 905, 318, 3462, 926, 8132, 1939, 7502, 2064, 912]\n",
      "551 [969, 905, 1217, 7502, 858, 926, 318, 2318, 3030, 1228]\n",
      "552 [318, 905, 926, 858, 8132, 3462, 969, 1147, 1945, 899]\n",
      "553 [905, 969, 926, 8132, 1945, 2064, 1228, 3088, 1939, 1217]\n",
      "554 [318, 7502, 905, 926, 1217, 969, 1945, 1221, 1939, 3462]\n",
      "555 [858, 905, 8132, 926, 969, 1221, 1939, 3462, 1945, 913]\n",
      "556 [2318, 858, 2064, 1221, 1276, 2019, 7502, 899, 904, 912]\n",
      "557 [969, 1945, 926, 858, 318, 2064, 3035, 1948, 5114, 1217]\n",
      "558 [926, 905, 318, 3462, 3469, 8132, 1228, 1948, 1939, 1217]\n",
      "559 [7502, 1945, 3462, 969, 905, 8132, 1939, 2064, 1217, 2318]\n",
      "560 [905, 969, 8132, 7502, 1945, 1217, 926, 3462, 1948, 3088]\n",
      "561 [7502, 318, 858, 905, 926, 3462, 969, 8132, 1945, 1217]\n",
      "562 [926, 969, 905, 7502, 1945, 3462, 1217, 1939, 1948, 1228]\n",
      "563 [858, 318, 905, 926, 969, 1939, 3462, 50, 8132, 1945]\n",
      "564 [1945, 318, 8132, 3462, 898, 1948, 1939, 969, 3035, 913]\n",
      "565 [905, 969, 926, 318, 1945, 3462, 5114, 1939, 8132, 3088]\n",
      "566 [1172, 858, 913, 7502, 899, 904, 926, 1147, 1212, 1217]\n",
      "567 [969, 7502, 905, 2318, 3469, 8132, 1948, 1228, 1945, 1217]\n",
      "568 [905, 926, 8132, 969, 1945, 913, 2064, 1228, 1172, 922]\n",
      "569 [7502, 926, 1228, 1948, 1945, 2064, 1221, 306, 8132, 3088]\n",
      "570 [3035, 1254, 1945, 3462, 7502, 8132, 318, 1172, 1147, 1217]\n",
      "571 [1948, 905, 318, 969, 3462, 858, 3088, 7502, 926, 3030]\n",
      "572 [926, 969, 905, 1945, 7502, 8132, 2064, 1217, 3035, 3462]\n",
      "573 [858, 1939, 318, 8132, 1221, 7502, 3462, 905, 1945, 926]\n",
      "574 [905, 969, 926, 1945, 7502, 1939, 8132, 3462, 2318, 1228]\n",
      "575 [926, 2064, 3462, 858, 1217, 1939, 7502, 8132, 922, 1172]\n",
      "576 [926, 318, 1945, 905, 7502, 1228, 858, 969, 2064, 1147]\n",
      "577 [1172, 50, 2318, 913, 2064, 1221, 1276, 608, 7502, 899]\n",
      "578 [8132, 905, 7502, 926, 6787, 1945, 3088, 1948, 3462, 969]\n",
      "579 [858, 7502, 318, 8132, 1221, 7153, 745, 1948, 926, 2973]\n",
      "580 [926, 1939, 7502, 8132, 3035, 922, 1147, 2318, 3088, 904]\n",
      "581 [2318, 8132, 7802, 858, 318, 105504, 1221, 1227, 922, 2973]\n",
      "582 [3469, 1948, 3462, 3088, 1172, 1945, 913, 1228, 926, 905]\n",
      "583 [926, 969, 905, 1945, 7502, 1939, 3683, 3462, 1217, 8132]\n",
      "584 [7502, 969, 1217, 858, 1939, 905, 8132, 1945, 3462, 3035]\n",
      "585 [1939, 969, 8132, 899, 7502, 1147, 1221, 6787, 608, 994]\n",
      "586 [926, 905, 1172, 858, 7502, 969, 3462, 913, 2019, 750]\n",
      "587 [8132, 7502, 1939, 1948, 3035, 1147, 3088, 994, 3469, 2318]\n",
      "588 [858, 926, 969, 7502, 1939, 1221, 1228, 905, 2064, 1945]\n",
      "589 [926, 318, 858, 905, 7502, 1945, 969, 3462, 8132, 2318]\n",
      "590 [905, 858, 1945, 969, 1939, 926, 8132, 3462, 913, 1948]\n",
      "591 [926, 318, 858, 1945, 1147, 969, 1948, 1221, 7502, 2064]\n",
      "592 [969, 905, 926, 7502, 1172, 1217, 7669, 318, 1945, 3088]\n",
      "593 [858, 1939, 1221, 926, 905, 1217, 318, 969, 7502, 1945]\n",
      "594 [318, 969, 905, 3462, 1945, 926, 8132, 7502, 1948, 3088]\n",
      "595 [6787, 3462, 926, 1254, 858, 1939, 3310, 3088, 905, 6016]\n",
      "596 [969, 1945, 926, 7502, 905, 1939, 3462, 1217, 3035, 2318]\n",
      "597 [858, 926, 318, 1939, 905, 3462, 7502, 3035, 1945, 3310]\n",
      "598 [7502, 3462, 905, 1939, 1221, 926, 1217, 969, 8132, 3035]\n",
      "599 [905, 1945, 969, 3030, 318, 926, 8132, 3035, 858, 2318]\n",
      "600 [858, 926, 3462, 318, 7502, 969, 1939, 905, 3469, 2064]\n",
      "601 [1939, 318, 905, 858, 1945, 969, 3035, 8132, 1217, 7502]\n",
      "602 [858, 8132, 3462, 926, 905, 2064, 1252, 1945, 1939, 2318]\n",
      "603 [858, 905, 318, 3462, 926, 8132, 306, 2064, 912, 3469]\n",
      "604 [969, 858, 905, 7502, 318, 1939, 6787, 926, 50, 2064]\n",
      "605 [318, 3462, 1948, 1147, 2064, 899, 50, 7502, 1228, 1939]\n",
      "606 [318, 7502, 926, 1217, 1172, 969, 905, 1945, 994, 8132]\n",
      "607 [7502, 905, 926, 969, 1948, 1217, 1228, 1945, 3088, 3462]\n",
      "608 [318, 905, 1945, 926, 969, 1939, 8132, 3462, 3035, 899]\n",
      "609 [1230, 3462, 81932, 926, 969, 1276, 2324, 1948, 1175, 1207]\n",
      "610 [858, 7502, 1939, 318, 1945, 1221, 926, 969, 6787, 905]\n",
      "611 [969, 926, 858, 1939, 7502, 1221, 1217, 318, 3462, 3088]\n",
      "612 [858, 318, 905, 2064, 969, 3462, 1939, 7502, 8132, 926]\n",
      "613 [7502, 905, 1221, 1939, 969, 3462, 926, 8132, 1217, 3088]\n",
      "614 [318, 8132, 1217, 1939, 3030, 904, 922, 50, 1172, 3462]\n",
      "615 [318, 905, 1939, 969, 8132, 1945, 926, 1221, 1217, 2064]\n",
      "616 [3462, 318, 926, 905, 7502, 1217, 1945, 1939, 8132, 969]\n",
      "617 [8132, 3462, 1948, 3469, 858, 969, 2318, 73290, 3088, 1939]\n",
      "618 [858, 318, 8132, 905, 1147, 2318, 3030, 1252, 1254, 908]\n",
      "619 [858, 905, 7502, 926, 912, 8132, 1228, 1147, 1945, 994]\n",
      "620 [858, 1252, 1939, 3462, 318, 608, 6787, 905, 913, 111]\n",
      "621 [926, 318, 1945, 7502, 2064, 8132, 858, 1228, 1254, 905]\n",
      "622 [858, 2064, 926, 1945, 3462, 3683, 969, 905, 3088, 3310]\n",
      "623 [858, 926, 3462, 7502, 905, 1939, 969, 1217, 3088, 1948]\n",
      "624 [7502, 318, 905, 1939, 3462, 527, 926, 8132, 1945, 969]\n",
      "625 [858, 3462, 8132, 318, 905, 1217, 926, 7502, 969, 1939]\n",
      "626 [7502, 969, 1945, 926, 1221, 905, 318, 8132, 1939, 904]\n",
      "627 [1939, 922, 905, 1948, 1217, 994, 969, 926, 3730, 2064]\n",
      "628 [8132, 1945, 926, 318, 3462, 1948, 905, 2064, 969, 858]\n",
      "629 [1948, 1939, 969, 318, 858, 3462, 6787, 3035, 1945, 3088]\n",
      "630 [7502, 318, 1939, 926, 905, 969, 1217, 3462, 6787, 8132]\n",
      "631 [858, 969, 905, 2318, 926, 3035, 7502, 3730, 1945, 1221]\n",
      "632 [858, 8132, 3462, 926, 969, 1217, 905, 3035, 2318, 1939]\n",
      "633 [858, 969, 1939, 926, 7502, 1221, 1948, 1945, 6787, 3462]\n",
      "634 [7502, 1939, 905, 926, 3310, 1217, 1945, 3683, 969, 527]\n",
      "635 [8132, 905, 1217, 858, 3462, 969, 3030, 926, 1939, 922]\n",
      "636 [905, 3462, 318, 858, 969, 926, 8132, 1945, 7502, 3088]\n",
      "637 [2064, 3462, 969, 926, 1217, 5114, 905, 1254, 3088, 1948]\n",
      "638 [858, 926, 905, 318, 969, 8132, 3030, 7502, 3462, 1945]\n",
      "639 [858, 1945, 926, 905, 969, 1948, 7502, 3462, 8132, 1217]\n",
      "640 [7502, 318, 926, 1939, 969, 905, 1217, 3462, 1221, 913]\n",
      "641 [905, 969, 926, 3462, 1945, 1939, 1217, 7502, 858, 1172]\n",
      "642 [3462, 858, 8132, 318, 905, 1217, 926, 1939, 1172, 7502]\n",
      "643 [7502, 905, 8132, 1217, 926, 1939, 969, 3462, 2973, 2318]\n",
      "644 [858, 318, 1939, 905, 1221, 7502, 3462, 8132, 1945, 969]\n",
      "645 [3462, 969, 1945, 318, 926, 858, 1217, 2064, 1939, 3035]\n",
      "646 [50, 296, 318, 858, 1221, 7502, 926, 1945, 3030, 3683]\n",
      "647 [3462, 318, 1939, 3035, 1948, 913, 905, 8132, 1147, 3088]\n",
      "648 [905, 969, 1939, 8132, 1945, 926, 1217, 3035, 913, 6787]\n",
      "649 [318, 3462, 905, 926, 858, 969, 1217, 7502, 1147, 2318]\n",
      "650 [7502, 969, 1939, 318, 905, 858, 1221, 1217, 2019, 3462]\n",
      "651 [1217, 7502, 905, 2064, 3462, 858, 8132, 969, 926, 1939]\n",
      "652 [318, 858, 926, 1945, 969, 905, 8132, 2064, 1948, 3462]\n",
      "653 [858, 1939, 318, 3462, 7502, 905, 926, 1217, 1221, 6016]\n",
      "654 [7502, 905, 969, 926, 1945, 3462, 1217, 1939, 8132, 1221]\n",
      "655 [7502, 905, 926, 969, 858, 318, 3462, 1945, 3088, 8132]\n",
      "656 [1172, 50, 296, 515, 527, 593, 318, 1197, 2318, 2959]\n",
      "657 [926, 858, 905, 1948, 1945, 969, 913, 3088, 1228, 2064]\n",
      "658 [858, 905, 926, 1945, 7502, 969, 1221, 3462, 1939, 1217]\n",
      "659 [905, 3462, 926, 8132, 969, 7502, 2064, 1939, 1945, 1217]\n",
      "660 [8132, 905, 318, 1945, 7502, 3462, 858, 926, 969, 1217]\n",
      "661 [858, 905, 1221, 926, 7502, 8132, 3462, 1939, 898, 1217]\n",
      "662 [3035, 1147, 1945, 858, 8132, 3462, 926, 905, 1948, 2318]\n",
      "663 [858, 969, 926, 1945, 318, 7502, 1939, 905, 1221, 3462]\n",
      "664 [905, 969, 926, 1945, 1228, 8132, 1217, 1948, 3462, 922]\n",
      "665 [8132, 905, 858, 969, 926, 7502, 3035, 1221, 1217, 2064]\n",
      "666 [858, 1221, 318, 7502, 926, 905, 1939, 969, 3462, 6787]\n",
      "667 [3462, 858, 905, 1948, 318, 8132, 926, 969, 1217, 3088]\n",
      "668 [858, 926, 3462, 1939, 1945, 1172, 905, 7502, 1228, 50]\n",
      "669 [858, 905, 318, 926, 7502, 1939, 1221, 3462, 1217, 969]\n",
      "670 [1939, 926, 905, 969, 1945, 3035, 858, 913, 8132, 899]\n",
      "671 [858, 905, 926, 3462, 7502, 1221, 1939, 8132, 1217, 899]\n"
     ]
    }
   ],
   "source": [
    "# Print the recommended items for each user\n",
    "result = []\n",
    "for uid, user_ratings in top_n.items():\n",
    "    print(uid, [iid for (iid, _) in user_ratings])\n",
    "    result.append((uid, [iid for (iid, _) in user_ratings]))"
   ]
  },
  {
   "cell_type": "code",
   "execution_count": 67,
   "id": "ae2b4b72-250e-4647-bcec-f82fe9d08fa8",
   "metadata": {},
   "outputs": [
    {
     "data": {
      "text/html": [
       "<div>\n",
       "<style scoped>\n",
       "    .dataframe tbody tr th:only-of-type {\n",
       "        vertical-align: middle;\n",
       "    }\n",
       "\n",
       "    .dataframe tbody tr th {\n",
       "        vertical-align: top;\n",
       "    }\n",
       "\n",
       "    .dataframe thead th {\n",
       "        text-align: right;\n",
       "    }\n",
       "</style>\n",
       "<table border=\"1\" class=\"dataframe\">\n",
       "  <thead>\n",
       "    <tr style=\"text-align: right;\">\n",
       "      <th></th>\n",
       "      <th>IUser Id</th>\n",
       "      <th>recomendations</th>\n",
       "    </tr>\n",
       "  </thead>\n",
       "  <tbody>\n",
       "    <tr>\n",
       "      <th>0</th>\n",
       "      <td>1</td>\n",
       "      <td>[905, 858, 926, 318, 1939, 3462, 7502, 8132, 1...</td>\n",
       "    </tr>\n",
       "    <tr>\n",
       "      <th>1</th>\n",
       "      <td>2</td>\n",
       "      <td>[318, 905, 969, 8132, 1217, 2318, 1945, 858, 1...</td>\n",
       "    </tr>\n",
       "    <tr>\n",
       "      <th>2</th>\n",
       "      <td>3</td>\n",
       "      <td>[8132, 858, 969, 926, 905, 3462, 7502, 3035, 1...</td>\n",
       "    </tr>\n",
       "    <tr>\n",
       "      <th>3</th>\n",
       "      <td>4</td>\n",
       "      <td>[318, 1221, 7502, 926, 1252, 3462, 905, 3035, ...</td>\n",
       "    </tr>\n",
       "    <tr>\n",
       "      <th>4</th>\n",
       "      <td>5</td>\n",
       "      <td>[969, 905, 318, 3462, 1948, 926, 8132, 1945, 1...</td>\n",
       "    </tr>\n",
       "    <tr>\n",
       "      <th>...</th>\n",
       "      <td>...</td>\n",
       "      <td>...</td>\n",
       "    </tr>\n",
       "    <tr>\n",
       "      <th>666</th>\n",
       "      <td>667</td>\n",
       "      <td>[3462, 858, 905, 1948, 318, 8132, 926, 969, 12...</td>\n",
       "    </tr>\n",
       "    <tr>\n",
       "      <th>667</th>\n",
       "      <td>668</td>\n",
       "      <td>[858, 926, 3462, 1939, 1945, 1172, 905, 7502, ...</td>\n",
       "    </tr>\n",
       "    <tr>\n",
       "      <th>668</th>\n",
       "      <td>669</td>\n",
       "      <td>[858, 905, 318, 926, 7502, 1939, 1221, 3462, 1...</td>\n",
       "    </tr>\n",
       "    <tr>\n",
       "      <th>669</th>\n",
       "      <td>670</td>\n",
       "      <td>[1939, 926, 905, 969, 1945, 3035, 858, 913, 81...</td>\n",
       "    </tr>\n",
       "    <tr>\n",
       "      <th>670</th>\n",
       "      <td>671</td>\n",
       "      <td>[858, 905, 926, 3462, 7502, 1221, 1939, 8132, ...</td>\n",
       "    </tr>\n",
       "  </tbody>\n",
       "</table>\n",
       "<p>671 rows × 2 columns</p>\n",
       "</div>"
      ],
      "text/plain": [
       "     IUser Id                                     recomendations\n",
       "0           1  [905, 858, 926, 318, 1939, 3462, 7502, 8132, 1...\n",
       "1           2  [318, 905, 969, 8132, 1217, 2318, 1945, 858, 1...\n",
       "2           3  [8132, 858, 969, 926, 905, 3462, 7502, 3035, 1...\n",
       "3           4  [318, 1221, 7502, 926, 1252, 3462, 905, 3035, ...\n",
       "4           5  [969, 905, 318, 3462, 1948, 926, 8132, 1945, 1...\n",
       "..        ...                                                ...\n",
       "666       667  [3462, 858, 905, 1948, 318, 8132, 926, 969, 12...\n",
       "667       668  [858, 926, 3462, 1939, 1945, 1172, 905, 7502, ...\n",
       "668       669  [858, 905, 318, 926, 7502, 1939, 1221, 3462, 1...\n",
       "669       670  [1939, 926, 905, 969, 1945, 3035, 858, 913, 81...\n",
       "670       671  [858, 905, 926, 3462, 7502, 1221, 1939, 8132, ...\n",
       "\n",
       "[671 rows x 2 columns]"
      ]
     },
     "execution_count": 67,
     "metadata": {},
     "output_type": "execute_result"
    }
   ],
   "source": [
    "# save results in a dataframe\n",
    "recomends_df= pd.DataFrame(data=result, columns=[\"IUser Id\", \"recomendations\"])\n",
    "recomends_df"
   ]
  },
  {
   "cell_type": "code",
   "execution_count": 68,
   "id": "951d67fc-b888-43c3-a5b1-98ada36b0532",
   "metadata": {},
   "outputs": [
    {
     "data": {
      "text/html": [
       "<div>\n",
       "<style scoped>\n",
       "    .dataframe tbody tr th:only-of-type {\n",
       "        vertical-align: middle;\n",
       "    }\n",
       "\n",
       "    .dataframe tbody tr th {\n",
       "        vertical-align: top;\n",
       "    }\n",
       "\n",
       "    .dataframe thead th {\n",
       "        text-align: right;\n",
       "    }\n",
       "</style>\n",
       "<table border=\"1\" class=\"dataframe\">\n",
       "  <thead>\n",
       "    <tr style=\"text-align: right;\">\n",
       "      <th></th>\n",
       "      <th>IUser Id</th>\n",
       "      <th>recomendations</th>\n",
       "      <th>rec_movie1</th>\n",
       "      <th>rec_movie2</th>\n",
       "      <th>rec_movie3</th>\n",
       "      <th>rec_movie4</th>\n",
       "      <th>rec_movie5</th>\n",
       "      <th>rec_movie6</th>\n",
       "      <th>rec_movie7</th>\n",
       "      <th>rec_movie8</th>\n",
       "      <th>rec_movie9</th>\n",
       "      <th>rec_movie10</th>\n",
       "    </tr>\n",
       "  </thead>\n",
       "  <tbody>\n",
       "    <tr>\n",
       "      <th>0</th>\n",
       "      <td>1</td>\n",
       "      <td>[905, 858, 926, 318, 1939, 3462, 7502, 8132, 1...</td>\n",
       "      <td>905</td>\n",
       "      <td>858</td>\n",
       "      <td>926</td>\n",
       "      <td>318</td>\n",
       "      <td>1939</td>\n",
       "      <td>3462</td>\n",
       "      <td>7502</td>\n",
       "      <td>8132</td>\n",
       "      <td>1945</td>\n",
       "      <td>899</td>\n",
       "    </tr>\n",
       "    <tr>\n",
       "      <th>1</th>\n",
       "      <td>2</td>\n",
       "      <td>[318, 905, 969, 8132, 1217, 2318, 1945, 858, 1...</td>\n",
       "      <td>318</td>\n",
       "      <td>905</td>\n",
       "      <td>969</td>\n",
       "      <td>8132</td>\n",
       "      <td>1217</td>\n",
       "      <td>2318</td>\n",
       "      <td>1945</td>\n",
       "      <td>858</td>\n",
       "      <td>1147</td>\n",
       "      <td>3030</td>\n",
       "    </tr>\n",
       "    <tr>\n",
       "      <th>2</th>\n",
       "      <td>3</td>\n",
       "      <td>[8132, 858, 969, 926, 905, 3462, 7502, 3035, 1...</td>\n",
       "      <td>8132</td>\n",
       "      <td>858</td>\n",
       "      <td>969</td>\n",
       "      <td>926</td>\n",
       "      <td>905</td>\n",
       "      <td>3462</td>\n",
       "      <td>7502</td>\n",
       "      <td>3035</td>\n",
       "      <td>1945</td>\n",
       "      <td>3030</td>\n",
       "    </tr>\n",
       "    <tr>\n",
       "      <th>3</th>\n",
       "      <td>4</td>\n",
       "      <td>[318, 1221, 7502, 926, 1252, 3462, 905, 3035, ...</td>\n",
       "      <td>318</td>\n",
       "      <td>1221</td>\n",
       "      <td>7502</td>\n",
       "      <td>926</td>\n",
       "      <td>1252</td>\n",
       "      <td>3462</td>\n",
       "      <td>905</td>\n",
       "      <td>3035</td>\n",
       "      <td>1939</td>\n",
       "      <td>1217</td>\n",
       "    </tr>\n",
       "    <tr>\n",
       "      <th>4</th>\n",
       "      <td>5</td>\n",
       "      <td>[969, 905, 318, 3462, 1948, 926, 8132, 1945, 1...</td>\n",
       "      <td>969</td>\n",
       "      <td>905</td>\n",
       "      <td>318</td>\n",
       "      <td>3462</td>\n",
       "      <td>1948</td>\n",
       "      <td>926</td>\n",
       "      <td>8132</td>\n",
       "      <td>1945</td>\n",
       "      <td>1217</td>\n",
       "      <td>3088</td>\n",
       "    </tr>\n",
       "  </tbody>\n",
       "</table>\n",
       "</div>"
      ],
      "text/plain": [
       "   IUser Id                                     recomendations  rec_movie1  \\\n",
       "0         1  [905, 858, 926, 318, 1939, 3462, 7502, 8132, 1...         905   \n",
       "1         2  [318, 905, 969, 8132, 1217, 2318, 1945, 858, 1...         318   \n",
       "2         3  [8132, 858, 969, 926, 905, 3462, 7502, 3035, 1...        8132   \n",
       "3         4  [318, 1221, 7502, 926, 1252, 3462, 905, 3035, ...         318   \n",
       "4         5  [969, 905, 318, 3462, 1948, 926, 8132, 1945, 1...         969   \n",
       "\n",
       "   rec_movie2  rec_movie3  rec_movie4  rec_movie5  rec_movie6  rec_movie7  \\\n",
       "0         858         926         318        1939        3462        7502   \n",
       "1         905         969        8132        1217        2318        1945   \n",
       "2         858         969         926         905        3462        7502   \n",
       "3        1221        7502         926        1252        3462         905   \n",
       "4         905         318        3462        1948         926        8132   \n",
       "\n",
       "   rec_movie8  rec_movie9  rec_movie10  \n",
       "0        8132        1945          899  \n",
       "1         858        1147         3030  \n",
       "2        3035        1945         3030  \n",
       "3        3035        1939         1217  \n",
       "4        1945        1217         3088  "
      ]
     },
     "execution_count": 68,
     "metadata": {},
     "output_type": "execute_result"
    }
   ],
   "source": [
    "recomends_df[['rec_movie1','rec_movie2','rec_movie3','rec_movie4','rec_movie5','rec_movie6',\n",
    "               'rec_movie7','rec_movie8','rec_movie9','rec_movie10']] = pd.DataFrame(recomends_df.recomendations.tolist(), index= recomends_df.index)\n",
    "recomends_df.head(5)"
   ]
  },
  {
   "cell_type": "code",
   "execution_count": 69,
   "id": "ea2e1534-62e3-4293-a338-01104186c961",
   "metadata": {},
   "outputs": [
    {
     "data": {
      "text/html": [
       "<div>\n",
       "<style scoped>\n",
       "    .dataframe tbody tr th:only-of-type {\n",
       "        vertical-align: middle;\n",
       "    }\n",
       "\n",
       "    .dataframe tbody tr th {\n",
       "        vertical-align: top;\n",
       "    }\n",
       "\n",
       "    .dataframe thead th {\n",
       "        text-align: right;\n",
       "    }\n",
       "</style>\n",
       "<table border=\"1\" class=\"dataframe\">\n",
       "  <thead>\n",
       "    <tr style=\"text-align: right;\">\n",
       "      <th></th>\n",
       "      <th>IUser Id</th>\n",
       "      <th>rec_movie1</th>\n",
       "      <th>rec_movie2</th>\n",
       "      <th>rec_movie3</th>\n",
       "      <th>rec_movie4</th>\n",
       "      <th>rec_movie5</th>\n",
       "      <th>rec_movie6</th>\n",
       "      <th>rec_movie7</th>\n",
       "      <th>rec_movie8</th>\n",
       "      <th>rec_movie9</th>\n",
       "      <th>rec_movie10</th>\n",
       "    </tr>\n",
       "  </thead>\n",
       "  <tbody>\n",
       "    <tr>\n",
       "      <th>0</th>\n",
       "      <td>1</td>\n",
       "      <td>905</td>\n",
       "      <td>858</td>\n",
       "      <td>926</td>\n",
       "      <td>318</td>\n",
       "      <td>1939</td>\n",
       "      <td>3462</td>\n",
       "      <td>7502</td>\n",
       "      <td>8132</td>\n",
       "      <td>1945</td>\n",
       "      <td>899</td>\n",
       "    </tr>\n",
       "    <tr>\n",
       "      <th>1</th>\n",
       "      <td>2</td>\n",
       "      <td>318</td>\n",
       "      <td>905</td>\n",
       "      <td>969</td>\n",
       "      <td>8132</td>\n",
       "      <td>1217</td>\n",
       "      <td>2318</td>\n",
       "      <td>1945</td>\n",
       "      <td>858</td>\n",
       "      <td>1147</td>\n",
       "      <td>3030</td>\n",
       "    </tr>\n",
       "    <tr>\n",
       "      <th>2</th>\n",
       "      <td>3</td>\n",
       "      <td>8132</td>\n",
       "      <td>858</td>\n",
       "      <td>969</td>\n",
       "      <td>926</td>\n",
       "      <td>905</td>\n",
       "      <td>3462</td>\n",
       "      <td>7502</td>\n",
       "      <td>3035</td>\n",
       "      <td>1945</td>\n",
       "      <td>3030</td>\n",
       "    </tr>\n",
       "    <tr>\n",
       "      <th>3</th>\n",
       "      <td>4</td>\n",
       "      <td>318</td>\n",
       "      <td>1221</td>\n",
       "      <td>7502</td>\n",
       "      <td>926</td>\n",
       "      <td>1252</td>\n",
       "      <td>3462</td>\n",
       "      <td>905</td>\n",
       "      <td>3035</td>\n",
       "      <td>1939</td>\n",
       "      <td>1217</td>\n",
       "    </tr>\n",
       "    <tr>\n",
       "      <th>4</th>\n",
       "      <td>5</td>\n",
       "      <td>969</td>\n",
       "      <td>905</td>\n",
       "      <td>318</td>\n",
       "      <td>3462</td>\n",
       "      <td>1948</td>\n",
       "      <td>926</td>\n",
       "      <td>8132</td>\n",
       "      <td>1945</td>\n",
       "      <td>1217</td>\n",
       "      <td>3088</td>\n",
       "    </tr>\n",
       "  </tbody>\n",
       "</table>\n",
       "</div>"
      ],
      "text/plain": [
       "   IUser Id  rec_movie1  rec_movie2  rec_movie3  rec_movie4  rec_movie5  \\\n",
       "0         1         905         858         926         318        1939   \n",
       "1         2         318         905         969        8132        1217   \n",
       "2         3        8132         858         969         926         905   \n",
       "3         4         318        1221        7502         926        1252   \n",
       "4         5         969         905         318        3462        1948   \n",
       "\n",
       "   rec_movie6  rec_movie7  rec_movie8  rec_movie9  rec_movie10  \n",
       "0        3462        7502        8132        1945          899  \n",
       "1        2318        1945         858        1147         3030  \n",
       "2        3462        7502        3035        1945         3030  \n",
       "3        3462         905        3035        1939         1217  \n",
       "4         926        8132        1945        1217         3088  "
      ]
     },
     "execution_count": 69,
     "metadata": {},
     "output_type": "execute_result"
    }
   ],
   "source": [
    "recomends_df.drop([\"recomendations\"], axis =1, inplace =True)\n",
    "recomends_df.head(5)"
   ]
  },
  {
   "cell_type": "markdown",
   "id": "e4fd1707-bcde-4d49-9311-2d468a5c7c74",
   "metadata": {},
   "source": [
    "### Recommends movies to a particular user"
   ]
  },
  {
   "cell_type": "code",
   "execution_count": 70,
   "id": "682f7242-6306-4498-b210-b0db12bde265",
   "metadata": {},
   "outputs": [],
   "source": [
    "all_pred = get_top_n(predictions)"
   ]
  },
  {
   "cell_type": "code",
   "execution_count": 72,
   "id": "b8ffc340-f6a2-46e3-93a6-a26993349ab4",
   "metadata": {},
   "outputs": [],
   "source": [
    "n = 10\n",
    "for uid, user_ratings in all_pred.items():\n",
    "    user_ratings.sort(key=lambda x: x[1], reverse=True)\n",
    "    all_pred[uid] = user_ratings[:n]"
   ]
  },
  {
   "cell_type": "code",
   "execution_count": 73,
   "id": "cd703d19-4b7d-4311-b89f-890bfc274b2d",
   "metadata": {},
   "outputs": [],
   "source": [
    "tmp = pd.DataFrame.from_dict(all_pred)\n",
    "tmp_transpose = tmp.transpose()"
   ]
  },
  {
   "cell_type": "code",
   "execution_count": 74,
   "id": "d161825d-560b-420c-a959-5d08c69c463d",
   "metadata": {},
   "outputs": [],
   "source": [
    "#Function for getting recommended movies for a particular user\n",
    "def get_predictions(user_id):\n",
    "    results2 = tmp_transpose.loc[user_id]\n",
    "    return results2"
   ]
  },
  {
   "cell_type": "code",
   "execution_count": 75,
   "id": "9582bdba-409b-4474-aa32-bfedaa8e38ad",
   "metadata": {},
   "outputs": [
    {
     "data": {
      "text/plain": [
       "0     (1147, 4.054368665849275)\n",
       "1    (3035, 4.0346681744478206)\n",
       "2      (969, 4.030937108296863)\n",
       "3    (8132, 4.0126447330663915)\n",
       "4    (1254, 3.9981584375961208)\n",
       "5      (926, 3.986443277795611)\n",
       "6     (3022, 3.985513127918612)\n",
       "7    (5114, 3.9789477885104803)\n",
       "8     (1948, 3.978541081547122)\n",
       "9    (3462, 3.9736041218212894)\n",
       "Name: 20, dtype: object"
      ]
     },
     "execution_count": 75,
     "metadata": {},
     "output_type": "execute_result"
    }
   ],
   "source": [
    "#Getting prediction for user who is holding the user id 20\n",
    "user_id=20\n",
    "results2 = get_predictions(user_id)\n",
    "results2"
   ]
  },
  {
   "cell_type": "code",
   "execution_count": 76,
   "id": "ecd814c6-fa6c-4073-8cc1-12a2c2485ea7",
   "metadata": {},
   "outputs": [
    {
     "data": {
      "text/plain": [
       "[1147, 3035, 969, 8132, 1254, 926, 3022, 5114, 1948, 3462]"
      ]
     },
     "execution_count": 76,
     "metadata": {},
     "output_type": "execute_result"
    }
   ],
   "source": [
    "#extracting the movie ids\n",
    "recommended_movie_ids=[]\n",
    "for x in range(0, n):\n",
    "    recommended_movie_ids.append(results2[x][0])\n",
    "\n",
    "recommended_movie_ids"
   ]
  },
  {
   "cell_type": "code",
   "execution_count": null,
   "id": "3fe6ac98-5e7b-43a4-be2a-11b6b7734486",
   "metadata": {},
   "outputs": [],
   "source": []
  }
 ],
 "metadata": {
  "kernelspec": {
   "display_name": "Python 3 (ipykernel)",
   "language": "python",
   "name": "python3"
  },
  "language_info": {
   "codemirror_mode": {
    "name": "ipython",
    "version": 3
   },
   "file_extension": ".py",
   "mimetype": "text/x-python",
   "name": "python",
   "nbconvert_exporter": "python",
   "pygments_lexer": "ipython3",
   "version": "3.11.8"
  }
 },
 "nbformat": 4,
 "nbformat_minor": 5
}
